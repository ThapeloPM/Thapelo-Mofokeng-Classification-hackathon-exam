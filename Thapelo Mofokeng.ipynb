{
 "cells": [
  {
   "cell_type": "markdown",
   "id": "124a8f4c",
   "metadata": {},
   "source": [
    "# South African Language Identification"
   ]
  },
  {
   "cell_type": "markdown",
   "id": "c10f2c02",
   "metadata": {},
   "source": [
    "Exam EDSA 2201 & 2207 classification hackathon\n"
   ]
  },
  {
   "cell_type": "markdown",
   "id": "94364731",
   "metadata": {},
   "source": [
    "# 1. INTRODUCTION\n",
    "## Exam overview\n",
    "\n",
    "South Africa is a cosmopolitan nation distinguished by its extensive language diversity. In South African society, language plays a vital role in social, cultural, intellectual, economic, and political life. It can also be utilized to strengthen democracy.\n",
    "\n",
    "\n",
    "With 11 official languages, all of which are given equal status, the nation is multilingual. The majority of South Africans are bilingual and can speak two or more of the official languages.\n",
    "\n",
    "With such a multilingual population, it is only obvious that our systems and devices also communicate in multi-languages.\n",
    "\n"
   ]
  },
  {
   "cell_type": "markdown",
   "id": "0bad32c2",
   "metadata": {},
   "source": [
    "# 2. Problem statement\n",
    "\n",
    "To determine the language of a text that is in one of South Africa's 11 official languages."
   ]
  },
  {
   "cell_type": "markdown",
   "id": "6d77c41b",
   "metadata": {},
   "source": [
    "# **3. Datasets imports**\n",
    "I will import necessary packages for data manupulation e.g numpy, data viewing e.g pandas, plotting e.g matplot library, seaborn and additional packages for text processing and numerical computations."
   ]
  },
  {
   "cell_type": "code",
   "execution_count": 197,
   "id": "6f7d65b5",
   "metadata": {},
   "outputs": [],
   "source": [
    "import pandas as pd\n",
    "import numpy as np\n",
    "import seaborn as sns\n",
    "import matplotlib.pyplot as plt\n",
    "import matplotlib as mpl\n",
    "mpl.rcParams['figure.dpi'] = 180\n",
    "\n",
    "# NLP Libraries\n",
    "import re\n",
    "import string\n",
    "from nltk.tokenize import word_tokenize,TreebankWordTokenizer\n",
    "from nltk.stem import WordNetLemmatizer\n",
    "from os import path\n",
    "from wordcloud import WordCloud, STOPWORDS, ImageColorGenerator\n",
    "\n",
    "# ML Libraries\n",
    "from sklearn.model_selection import train_test_split\n",
    "from sklearn.feature_extraction.text import CountVectorizer\n",
    "from sklearn.feature_extraction.text import TfidfVectorizer\n",
    "from sklearn.model_selection import cross_val_score\n",
    "from sklearn import metrics\n",
    "\n",
    "#ignore warnings\n",
    "import warnings\n",
    "warnings.filterwarnings('ignore')"
   ]
  },
  {
   "cell_type": "markdown",
   "id": "51f309c6",
   "metadata": {},
   "source": [
    "The next step is to import the available data for analysis.\n",
    ">For the purpose of this exam, we have been provided with the following data:\n",
    ">1. train.csv :- This data will be used for training the model\n",
    ">2. test.csv :- This data will test the model for the purpose of kaggle competition\n",
    ">3. Sample_submission.csv :- Contain a sample submission on kaggle"
   ]
  },
  {
   "cell_type": "markdown",
   "id": "82734f20",
   "metadata": {},
   "source": [
    "Import the data to be used"
   ]
  },
  {
   "cell_type": "code",
   "execution_count": 198,
   "id": "84549500",
   "metadata": {},
   "outputs": [],
   "source": [
    "train = pd.read_csv('train_set.csv')\n",
    "test = pd.read_csv('test_set.csv')"
   ]
  },
  {
   "cell_type": "markdown",
   "id": "489c186e",
   "metadata": {},
   "source": [
    "## 4. Data preprocessing"
   ]
  },
  {
   "cell_type": "code",
   "execution_count": 199,
   "id": "7a738d5c",
   "metadata": {},
   "outputs": [
    {
     "data": {
      "text/html": [
       "<div>\n",
       "<style scoped>\n",
       "    .dataframe tbody tr th:only-of-type {\n",
       "        vertical-align: middle;\n",
       "    }\n",
       "\n",
       "    .dataframe tbody tr th {\n",
       "        vertical-align: top;\n",
       "    }\n",
       "\n",
       "    .dataframe thead th {\n",
       "        text-align: right;\n",
       "    }\n",
       "</style>\n",
       "<table border=\"1\" class=\"dataframe\">\n",
       "  <thead>\n",
       "    <tr style=\"text-align: right;\">\n",
       "      <th></th>\n",
       "      <th>lang_id</th>\n",
       "      <th>text</th>\n",
       "    </tr>\n",
       "  </thead>\n",
       "  <tbody>\n",
       "    <tr>\n",
       "      <th>0</th>\n",
       "      <td>xho</td>\n",
       "      <td>umgaqo-siseko wenza amalungiselelo kumaziko ax...</td>\n",
       "    </tr>\n",
       "    <tr>\n",
       "      <th>1</th>\n",
       "      <td>xho</td>\n",
       "      <td>i-dha iya kuba nobulumko bokubeka umsebenzi na...</td>\n",
       "    </tr>\n",
       "    <tr>\n",
       "      <th>2</th>\n",
       "      <td>eng</td>\n",
       "      <td>the province of kwazulu-natal department of tr...</td>\n",
       "    </tr>\n",
       "    <tr>\n",
       "      <th>3</th>\n",
       "      <td>nso</td>\n",
       "      <td>o netefatša gore o ba file dilo ka moka tše le...</td>\n",
       "    </tr>\n",
       "    <tr>\n",
       "      <th>4</th>\n",
       "      <td>ven</td>\n",
       "      <td>khomishini ya ndinganyiso ya mbeu yo ewa maana...</td>\n",
       "    </tr>\n",
       "  </tbody>\n",
       "</table>\n",
       "</div>"
      ],
      "text/plain": [
       "  lang_id                                               text\n",
       "0     xho  umgaqo-siseko wenza amalungiselelo kumaziko ax...\n",
       "1     xho  i-dha iya kuba nobulumko bokubeka umsebenzi na...\n",
       "2     eng  the province of kwazulu-natal department of tr...\n",
       "3     nso  o netefatša gore o ba file dilo ka moka tše le...\n",
       "4     ven  khomishini ya ndinganyiso ya mbeu yo ewa maana..."
      ]
     },
     "execution_count": 199,
     "metadata": {},
     "output_type": "execute_result"
    }
   ],
   "source": [
    "# let's examine the first five (5) rows of the train data\n",
    "train.head()"
   ]
  },
  {
   "cell_type": "code",
   "execution_count": 200,
   "id": "0748d45c",
   "metadata": {},
   "outputs": [
    {
     "data": {
      "text/html": [
       "<div>\n",
       "<style scoped>\n",
       "    .dataframe tbody tr th:only-of-type {\n",
       "        vertical-align: middle;\n",
       "    }\n",
       "\n",
       "    .dataframe tbody tr th {\n",
       "        vertical-align: top;\n",
       "    }\n",
       "\n",
       "    .dataframe thead th {\n",
       "        text-align: right;\n",
       "    }\n",
       "</style>\n",
       "<table border=\"1\" class=\"dataframe\">\n",
       "  <thead>\n",
       "    <tr style=\"text-align: right;\">\n",
       "      <th></th>\n",
       "      <th>index</th>\n",
       "      <th>text</th>\n",
       "    </tr>\n",
       "  </thead>\n",
       "  <tbody>\n",
       "    <tr>\n",
       "      <th>0</th>\n",
       "      <td>1</td>\n",
       "      <td>Mmasepala, fa maemo a a kgethegileng a letlele...</td>\n",
       "    </tr>\n",
       "    <tr>\n",
       "      <th>1</th>\n",
       "      <td>2</td>\n",
       "      <td>Uzakwaziswa ngokufaneleko nakungafuneka eminye...</td>\n",
       "    </tr>\n",
       "    <tr>\n",
       "      <th>2</th>\n",
       "      <td>3</td>\n",
       "      <td>Tshivhumbeo tshi fana na ngano dza vhathu.</td>\n",
       "    </tr>\n",
       "    <tr>\n",
       "      <th>3</th>\n",
       "      <td>4</td>\n",
       "      <td>Kube inja nelikati betingevakala kutsi titsini...</td>\n",
       "    </tr>\n",
       "    <tr>\n",
       "      <th>4</th>\n",
       "      <td>5</td>\n",
       "      <td>Winste op buitelandse valuta.</td>\n",
       "    </tr>\n",
       "  </tbody>\n",
       "</table>\n",
       "</div>"
      ],
      "text/plain": [
       "   index                                               text\n",
       "0      1  Mmasepala, fa maemo a a kgethegileng a letlele...\n",
       "1      2  Uzakwaziswa ngokufaneleko nakungafuneka eminye...\n",
       "2      3         Tshivhumbeo tshi fana na ngano dza vhathu.\n",
       "3      4  Kube inja nelikati betingevakala kutsi titsini...\n",
       "4      5                      Winste op buitelandse valuta."
      ]
     },
     "execution_count": 200,
     "metadata": {},
     "output_type": "execute_result"
    }
   ],
   "source": [
    "# the first five rows for the test data\n",
    "test.head()"
   ]
  },
  {
   "cell_type": "markdown",
   "id": "40189e77",
   "metadata": {},
   "source": [
    "## Insights \n",
    "Let us examining the properties of our data."
   ]
  },
  {
   "cell_type": "code",
   "execution_count": 201,
   "id": "a1e7e595",
   "metadata": {},
   "outputs": [
    {
     "data": {
      "text/plain": [
       "(33000, 2)"
      ]
     },
     "execution_count": 201,
     "metadata": {},
     "output_type": "execute_result"
    }
   ],
   "source": [
    "train.shape"
   ]
  },
  {
   "cell_type": "code",
   "execution_count": 202,
   "id": "e9ffb7b8",
   "metadata": {},
   "outputs": [
    {
     "data": {
      "text/plain": [
       "(5682, 2)"
      ]
     },
     "execution_count": 202,
     "metadata": {},
     "output_type": "execute_result"
    }
   ],
   "source": [
    "test.shape"
   ]
  },
  {
   "cell_type": "markdown",
   "id": "99d0428f",
   "metadata": {},
   "source": [
    "The train contains 33000 rows and 2 columns, while the test data contains 5682 rows and 2 columns."
   ]
  },
  {
   "cell_type": "code",
   "execution_count": 203,
   "id": "9326ba4e",
   "metadata": {},
   "outputs": [
    {
     "name": "stdout",
     "output_type": "stream",
     "text": [
      "<class 'pandas.core.frame.DataFrame'>\n",
      "RangeIndex: 33000 entries, 0 to 32999\n",
      "Data columns (total 2 columns):\n",
      " #   Column   Non-Null Count  Dtype \n",
      "---  ------   --------------  ----- \n",
      " 0   lang_id  33000 non-null  object\n",
      " 1   text     33000 non-null  object\n",
      "dtypes: object(2)\n",
      "memory usage: 515.8+ KB\n"
     ]
    }
   ],
   "source": [
    "train.info()"
   ]
  },
  {
   "cell_type": "code",
   "execution_count": 204,
   "id": "2649829d",
   "metadata": {},
   "outputs": [
    {
     "data": {
      "text/plain": [
       "lang_id    0\n",
       "text       0\n",
       "dtype: int64"
      ]
     },
     "execution_count": 204,
     "metadata": {},
     "output_type": "execute_result"
    }
   ],
   "source": [
    "# let check for missing value in the train data\n",
    "train.isnull().sum(axis=0)"
   ]
  },
  {
   "cell_type": "code",
   "execution_count": 205,
   "id": "ef5c2cdc",
   "metadata": {},
   "outputs": [
    {
     "name": "stdout",
     "output_type": "stream",
     "text": [
      "<class 'pandas.core.frame.DataFrame'>\n",
      "RangeIndex: 5682 entries, 0 to 5681\n",
      "Data columns (total 2 columns):\n",
      " #   Column  Non-Null Count  Dtype \n",
      "---  ------  --------------  ----- \n",
      " 0   index   5682 non-null   int64 \n",
      " 1   text    5682 non-null   object\n",
      "dtypes: int64(1), object(1)\n",
      "memory usage: 88.9+ KB\n"
     ]
    }
   ],
   "source": [
    "test.info()"
   ]
  },
  {
   "cell_type": "code",
   "execution_count": 206,
   "id": "f4bc4d49",
   "metadata": {},
   "outputs": [
    {
     "data": {
      "text/plain": [
       "index    0\n",
       "text     0\n",
       "dtype: int64"
      ]
     },
     "execution_count": 206,
     "metadata": {},
     "output_type": "execute_result"
    }
   ],
   "source": [
    "# let check for missing value in the test data\n",
    "test.isnull().sum(axis=0)"
   ]
  },
  {
   "cell_type": "markdown",
   "id": "636b403c",
   "metadata": {},
   "source": [
    "Simply displaying the train and test data to have a look at the actual data contained within the first 5 columns.\n",
    "\n",
    "The lang_id column contains differnet languages.\n",
    "\n",
    "The text column contains messages from different people expressing their views in different languages."
   ]
  },
  {
   "cell_type": "markdown",
   "id": "91e7e767",
   "metadata": {},
   "source": [
    "There are no null values in the  data, so we can proceed to data cleaning."
   ]
  },
  {
   "cell_type": "markdown",
   "id": "b06ca178",
   "metadata": {},
   "source": [
    "# **5. Exploratory Data Analysis**\n",
    "The following section provides an overview of the given data. We will looks at  some key insights of the raw data as well as the sentiment distribution of the data. In addition we will visualise the word frequency of messages of the unprocessed train and test data.\n",
    "We will try to dig deep into both the training and testing data to ensure that our data meets the following:\n",
    ">1. Correctly formatted\n",
    ">2. Have the correct data types\n",
    ">4. Correctly distributed i.e., normally distributed\n",
    ">5. No coliniarity for classification problem or no multicoliniarity for regression problem\n",
    "\n",
    "Exploratory data analysis is the key that will lead us to feature engineering and choosing the right machine learning algorithm for the data."
   ]
  },
  {
   "cell_type": "code",
   "execution_count": 207,
   "id": "3bab5b32",
   "metadata": {},
   "outputs": [
    {
     "data": {
      "text/html": [
       "<div>\n",
       "<style scoped>\n",
       "    .dataframe tbody tr th:only-of-type {\n",
       "        vertical-align: middle;\n",
       "    }\n",
       "\n",
       "    .dataframe tbody tr th {\n",
       "        vertical-align: top;\n",
       "    }\n",
       "\n",
       "    .dataframe thead th {\n",
       "        text-align: right;\n",
       "    }\n",
       "</style>\n",
       "<table border=\"1\" class=\"dataframe\">\n",
       "  <thead>\n",
       "    <tr style=\"text-align: right;\">\n",
       "      <th></th>\n",
       "      <th>text</th>\n",
       "    </tr>\n",
       "    <tr>\n",
       "      <th>lang_id</th>\n",
       "      <th></th>\n",
       "    </tr>\n",
       "  </thead>\n",
       "  <tbody>\n",
       "    <tr>\n",
       "      <th>afr</th>\n",
       "      <td>3000</td>\n",
       "    </tr>\n",
       "    <tr>\n",
       "      <th>eng</th>\n",
       "      <td>3000</td>\n",
       "    </tr>\n",
       "    <tr>\n",
       "      <th>nbl</th>\n",
       "      <td>3000</td>\n",
       "    </tr>\n",
       "    <tr>\n",
       "      <th>nso</th>\n",
       "      <td>3000</td>\n",
       "    </tr>\n",
       "    <tr>\n",
       "      <th>sot</th>\n",
       "      <td>3000</td>\n",
       "    </tr>\n",
       "    <tr>\n",
       "      <th>ssw</th>\n",
       "      <td>3000</td>\n",
       "    </tr>\n",
       "    <tr>\n",
       "      <th>tsn</th>\n",
       "      <td>3000</td>\n",
       "    </tr>\n",
       "    <tr>\n",
       "      <th>tso</th>\n",
       "      <td>3000</td>\n",
       "    </tr>\n",
       "    <tr>\n",
       "      <th>ven</th>\n",
       "      <td>3000</td>\n",
       "    </tr>\n",
       "    <tr>\n",
       "      <th>xho</th>\n",
       "      <td>3000</td>\n",
       "    </tr>\n",
       "    <tr>\n",
       "      <th>zul</th>\n",
       "      <td>3000</td>\n",
       "    </tr>\n",
       "  </tbody>\n",
       "</table>\n",
       "</div>"
      ],
      "text/plain": [
       "         text\n",
       "lang_id      \n",
       "afr      3000\n",
       "eng      3000\n",
       "nbl      3000\n",
       "nso      3000\n",
       "sot      3000\n",
       "ssw      3000\n",
       "tsn      3000\n",
       "tso      3000\n",
       "ven      3000\n",
       "xho      3000\n",
       "zul      3000"
      ]
     },
     "execution_count": 207,
     "metadata": {},
     "output_type": "execute_result"
    }
   ],
   "source": [
    "#check how the lang_id are distributed \n",
    "train.groupby(by='lang_id').count() #we check the distribution of the sentiment"
   ]
  },
  {
   "cell_type": "markdown",
   "id": "a54c2349",
   "metadata": {},
   "source": [
    "## Natural language processing"
   ]
  },
  {
   "cell_type": "markdown",
   "id": "409ec995",
   "metadata": {},
   "source": [
    "Creating a function that will handle natural language processing of the text automatically."
   ]
  },
  {
   "cell_type": "code",
   "execution_count": 208,
   "id": "34bd3f81",
   "metadata": {},
   "outputs": [],
   "source": [
    "def nlp_function(text): \n",
    "    \n",
    "    #Removing the punctuations\n",
    "    punc_numbers = string.punctuation + '0123456789'\n",
    "    text = ''.join([l for l in text if l not in punc_numbers])\n",
    "    text = re.sub(r'[[]]', ' ', text)\n",
    "    \n",
    "    #Tokenise the text\n",
    "    tokeniser = TreebankWordTokenizer()\n",
    "    text= tokeniser.tokenize(text)\n",
    "    \n",
    "    return text"
   ]
  },
  {
   "cell_type": "code",
   "execution_count": 209,
   "id": "62b4f4a3",
   "metadata": {},
   "outputs": [
    {
     "data": {
      "text/html": [
       "<div>\n",
       "<style scoped>\n",
       "    .dataframe tbody tr th:only-of-type {\n",
       "        vertical-align: middle;\n",
       "    }\n",
       "\n",
       "    .dataframe tbody tr th {\n",
       "        vertical-align: top;\n",
       "    }\n",
       "\n",
       "    .dataframe thead th {\n",
       "        text-align: right;\n",
       "    }\n",
       "</style>\n",
       "<table border=\"1\" class=\"dataframe\">\n",
       "  <thead>\n",
       "    <tr style=\"text-align: right;\">\n",
       "      <th></th>\n",
       "      <th>lang_id</th>\n",
       "      <th>text</th>\n",
       "    </tr>\n",
       "  </thead>\n",
       "  <tbody>\n",
       "    <tr>\n",
       "      <th>0</th>\n",
       "      <td>xho</td>\n",
       "      <td>[umgaqosiseko, wenza, amalungiselelo, kumaziko...</td>\n",
       "    </tr>\n",
       "    <tr>\n",
       "      <th>1</th>\n",
       "      <td>xho</td>\n",
       "      <td>[idha, iya, kuba, nobulumko, bokubeka, umseben...</td>\n",
       "    </tr>\n",
       "    <tr>\n",
       "      <th>2</th>\n",
       "      <td>eng</td>\n",
       "      <td>[the, province, of, kwazulunatal, department, ...</td>\n",
       "    </tr>\n",
       "    <tr>\n",
       "      <th>3</th>\n",
       "      <td>nso</td>\n",
       "      <td>[o, netefatša, gore, o, ba, file, dilo, ka, mo...</td>\n",
       "    </tr>\n",
       "    <tr>\n",
       "      <th>4</th>\n",
       "      <td>ven</td>\n",
       "      <td>[khomishini, ya, ndinganyiso, ya, mbeu, yo, ew...</td>\n",
       "    </tr>\n",
       "  </tbody>\n",
       "</table>\n",
       "</div>"
      ],
      "text/plain": [
       "  lang_id                                               text\n",
       "0     xho  [umgaqosiseko, wenza, amalungiselelo, kumaziko...\n",
       "1     xho  [idha, iya, kuba, nobulumko, bokubeka, umseben...\n",
       "2     eng  [the, province, of, kwazulunatal, department, ...\n",
       "3     nso  [o, netefatša, gore, o, ba, file, dilo, ka, mo...\n",
       "4     ven  [khomishini, ya, ndinganyiso, ya, mbeu, yo, ew..."
      ]
     },
     "execution_count": 209,
     "metadata": {},
     "output_type": "execute_result"
    }
   ],
   "source": [
    "#make a copy of the train data set and apply NLP on it\n",
    "train1 =  train.copy()\n",
    "train1['text'] = train1['text'].apply(nlp_function)\n",
    "train1.head()"
   ]
  },
  {
   "cell_type": "code",
   "execution_count": 210,
   "id": "3131cbc1",
   "metadata": {},
   "outputs": [
    {
     "data": {
      "text/html": [
       "<div>\n",
       "<style scoped>\n",
       "    .dataframe tbody tr th:only-of-type {\n",
       "        vertical-align: middle;\n",
       "    }\n",
       "\n",
       "    .dataframe tbody tr th {\n",
       "        vertical-align: top;\n",
       "    }\n",
       "\n",
       "    .dataframe thead th {\n",
       "        text-align: right;\n",
       "    }\n",
       "</style>\n",
       "<table border=\"1\" class=\"dataframe\">\n",
       "  <thead>\n",
       "    <tr style=\"text-align: right;\">\n",
       "      <th></th>\n",
       "      <th>lang_id</th>\n",
       "      <th>text</th>\n",
       "      <th>text1</th>\n",
       "    </tr>\n",
       "  </thead>\n",
       "  <tbody>\n",
       "    <tr>\n",
       "      <th>0</th>\n",
       "      <td>xho</td>\n",
       "      <td>[umgaqosiseko, wenza, amalungiselelo, kumaziko...</td>\n",
       "      <td>umgaqosiseko wenza amalungiselelo kumaziko axh...</td>\n",
       "    </tr>\n",
       "    <tr>\n",
       "      <th>1</th>\n",
       "      <td>xho</td>\n",
       "      <td>[idha, iya, kuba, nobulumko, bokubeka, umseben...</td>\n",
       "      <td>idha iya kuba nobulumko bokubeka umsebenzi nap...</td>\n",
       "    </tr>\n",
       "    <tr>\n",
       "      <th>2</th>\n",
       "      <td>eng</td>\n",
       "      <td>[the, province, of, kwazulunatal, department, ...</td>\n",
       "      <td>the province of kwazulunatal department of tra...</td>\n",
       "    </tr>\n",
       "    <tr>\n",
       "      <th>3</th>\n",
       "      <td>nso</td>\n",
       "      <td>[o, netefatša, gore, o, ba, file, dilo, ka, mo...</td>\n",
       "      <td>o netefatša gore o ba file dilo ka moka tše le...</td>\n",
       "    </tr>\n",
       "    <tr>\n",
       "      <th>4</th>\n",
       "      <td>ven</td>\n",
       "      <td>[khomishini, ya, ndinganyiso, ya, mbeu, yo, ew...</td>\n",
       "      <td>khomishini ya ndinganyiso ya mbeu yo ewa maana...</td>\n",
       "    </tr>\n",
       "  </tbody>\n",
       "</table>\n",
       "</div>"
      ],
      "text/plain": [
       "  lang_id                                               text  \\\n",
       "0     xho  [umgaqosiseko, wenza, amalungiselelo, kumaziko...   \n",
       "1     xho  [idha, iya, kuba, nobulumko, bokubeka, umseben...   \n",
       "2     eng  [the, province, of, kwazulunatal, department, ...   \n",
       "3     nso  [o, netefatša, gore, o, ba, file, dilo, ka, mo...   \n",
       "4     ven  [khomishini, ya, ndinganyiso, ya, mbeu, yo, ew...   \n",
       "\n",
       "                                               text1  \n",
       "0  umgaqosiseko wenza amalungiselelo kumaziko axh...  \n",
       "1  idha iya kuba nobulumko bokubeka umsebenzi nap...  \n",
       "2  the province of kwazulunatal department of tra...  \n",
       "3  o netefatša gore o ba file dilo ka moka tše le...  \n",
       "4  khomishini ya ndinganyiso ya mbeu yo ewa maana...  "
      ]
     },
     "execution_count": 210,
     "metadata": {},
     "output_type": "execute_result"
    }
   ],
   "source": [
    "def separate(text):\n",
    "    text = ' '.join(t for t in text if t)\n",
    "    return text\n",
    "    \n",
    "train1['text1'] = train1['text'].apply(separate)\n",
    "train1.head()"
   ]
  },
  {
   "cell_type": "markdown",
   "id": "4542d5b0",
   "metadata": {},
   "source": [
    "## Most Frequent words"
   ]
  },
  {
   "cell_type": "code",
   "execution_count": 211,
   "id": "0e03d5a1",
   "metadata": {},
   "outputs": [],
   "source": [
    "def bag_of_words_count(words, word_dict={}):\n",
    "    \"\"\" this function takes in a list of words and returns a dictionary \n",
    "        with each word as a key, and the value represents the number of \n",
    "        times that word appeared\"\"\"\n",
    "    for word in words:\n",
    "        if word in word_dict.keys():\n",
    "            word_dict[word] += 1\n",
    "        else:\n",
    "            word_dict[word] = 1\n",
    "    return word_dict"
   ]
  },
  {
   "cell_type": "code",
   "execution_count": 212,
   "id": "e05c3f9d",
   "metadata": {},
   "outputs": [
    {
     "name": "stdout",
     "output_type": "stream",
     "text": [
      "['xho', 'eng', 'nso', 'ven', 'tsn', 'nbl', 'zul', 'ssw', 'tso', 'sot', 'afr']\n"
     ]
    }
   ],
   "source": [
    "lang_labels = list(train1.lang_id.unique())\n",
    "print(lang_labels)"
   ]
  },
  {
   "cell_type": "code",
   "execution_count": 213,
   "id": "97e2a195",
   "metadata": {},
   "outputs": [],
   "source": [
    "lang_dic = {}\n",
    "for label in lang_labels:\n",
    "    df = train1.groupby('lang_id')\n",
    "    lang_dic[label] = {}\n",
    "    for row in df.get_group(label)['text']:\n",
    "        lang_dic[label] = bag_of_words_count(row, lang_dic[label])"
   ]
  },
  {
   "cell_type": "code",
   "execution_count": 214,
   "id": "da16710b",
   "metadata": {},
   "outputs": [],
   "source": [
    "all_words = set()\n",
    "for label in lang_labels:\n",
    "    for word in lang_dic[label]:\n",
    "        all_words.add(word)"
   ]
  },
  {
   "cell_type": "code",
   "execution_count": 215,
   "id": "efe46dff",
   "metadata": {},
   "outputs": [],
   "source": [
    "lang_dic['all'] = {}\n",
    "for label in lang_labels:    \n",
    "    for word in all_words:\n",
    "        if word in lang_dic[label].keys():\n",
    "            if word in lang_dic['all']:\n",
    "                lang_dic['all'][word] += lang_dic[label][word]\n",
    "            else:\n",
    "                lang_dic['all'][word] = lang_dic[label][word]"
   ]
  },
  {
   "cell_type": "code",
   "execution_count": 216,
   "id": "32b7e809",
   "metadata": {},
   "outputs": [
    {
     "data": {
      "text/plain": [
       "1223491"
      ]
     },
     "execution_count": 216,
     "metadata": {},
     "output_type": "execute_result"
    }
   ],
   "source": [
    "total_words = sum([v for v in lang_dic['all'].values()])\n",
    "total_words"
   ]
  },
  {
   "cell_type": "code",
   "execution_count": 217,
   "id": "6342bf96",
   "metadata": {},
   "outputs": [
    {
     "data": {
      "image/png": "[encoded data removed]",
      "text/plain": [
       "<Figure size 1080x720 with 1 Axes>"
      ]
     },
     "metadata": {},
     "output_type": "display_data"
    }
   ],
   "source": [
    "m = train.groupby(by='lang_id').count() #this code group the train data by lang_id and make a count of each language\n",
    "values = m['text'].to_list() # values contain the total counts of each language\n",
    "m_index = m.index.to_list() # m_index contain the label of each language\n",
    "\n",
    "#the code below will plot a pie chart showing the percentage of each lang_id\n",
    "plt.pie(values, labels=m_index)\n",
    "plt.show()"
   ]
  },
  {
   "cell_type": "code",
   "execution_count": 218,
   "id": "df0911e9",
   "metadata": {},
   "outputs": [
    {
     "data": {
      "text/plain": [
       "Text(0.5, 0, 'word frequency')"
      ]
     },
     "execution_count": 218,
     "metadata": {},
     "output_type": "execute_result"
    },
    {
     "data": {
      "image/png": "[encoded data removed]",
      "text/plain": [
       "<Figure size 1080x720 with 1 Axes>"
      ]
     },
     "metadata": {
      "needs_background": "light"
     },
     "output_type": "display_data"
    }
   ],
   "source": [
    "_ = plt.hist([v for v in lang_dic['all'].values() if v < 10],bins=10)\n",
    "plt.ylabel(\"# of words\")\n",
    "plt.xlabel(\"word frequency\")"
   ]
  },
  {
   "cell_type": "code",
   "execution_count": 219,
   "id": "1a940c68",
   "metadata": {},
   "outputs": [
    {
     "data": {
      "text/plain": [
       "77259"
      ]
     },
     "execution_count": 219,
     "metadata": {},
     "output_type": "execute_result"
    }
   ],
   "source": [
    "len([v for v in lang_dic['all'].values() if v == 1])"
   ]
  },
  {
   "cell_type": "code",
   "execution_count": 220,
   "id": "f85eec46",
   "metadata": {},
   "outputs": [
    {
     "name": "stdout",
     "output_type": "stream",
     "text": [
      "['awusayine', 'liceba', 'ukongezelelwa', 'upheleleyo', 'kukud', 'ngokuthoba', 'ungumhlolo', 'eligqunyiweyo', 'zokuthinjwa', 'yilonto', 'izikhuseli', 'nomnikezi', 'zetrektara', 'ezithethwa', 'netyhefu', 'nangaliphi', 'zizixhaso', 'zingarhoxiswa', 'nasekukhuliseni', 'kwelicandelwano', 'kuyakrokrisa', 'yaphula', 'bafihle', 'kufungie', 'yenzekile', 'kuhlahlolwabiwomali', 'ngabahlohli', 'kwemithethosiseko', 'kubusuku', 'kangangomlinganiselo', 'wokudlakazeliswa', 'nobudoda', 'elithamsanqa', 'lungaphakathi', 'zocalucalulo', 'sayamene', 'kwabakho', 'iphakamise', 'kwisicocimoya', 'busengozini', 'sobudlelwane', 'ezikweli', 'yemvumelwano', 'yimiqobo', 'esezikho', 'abungxanyelwa', 'ukwabonakalisa', 'lamanqanaba', 'wonyango', 'isithinteli', 'unyanzelise', 'kwanokuqinisa', 'anxitywe', 'nesakhe', 'sisikolo', 'nkeazo', 'ababehlelelekile', 'yepemithi', 'yipublic', 'azikadweliswa', 'sibakhupha', 'yimpendulo', 'abakwinzima', 'kwabarhanelwa', 'mabafikelele', 'ukhathalelo', 'olwandayo', 'lamathala', 'banxibe', 'imigqalisela', 'ecwangciselweyo', 'zilunge', 'anamava', 'ulonyulo', 'elingelolaseburhulumenteni', 'koxinezelelo', 'uyakuliqwalasela', 'obunxulumene', 'okuluqilima', 'igixa', 'wakutshanje', 'ungumfundi', 'licacisa', 'ekumelwe', 'icebiso', 'sizakuxoxa', 'nangowuphina', 'umyiputa', 'emthandabuza', 'lokojongana', 'lwezikhundla', 'umfaneekiso', 'wotitshala', 'nasemacaleni', 'ukubhankisha', 'ziphikisana', 'iivoti', 'kulomcelimngeni', 'onxulumeneyo', 'ineekomishina']\n"
     ]
    }
   ],
   "source": [
    "rare_words = [k for k, v in lang_dic['all'].items() if v==1] \n",
    "print(rare_words[:100])"
   ]
  },
  {
   "cell_type": "code",
   "execution_count": 221,
   "id": "b51c565a",
   "metadata": {},
   "outputs": [
    {
     "name": "stdout",
     "output_type": "stream",
     "text": [
      "13223\n",
      "959473\n"
     ]
    }
   ],
   "source": [
    "# how many words appear more than 10 times?\n",
    "# how many words of the total does that account for?\n",
    "print(len([v for v in lang_dic['all'].values() if v >=10]))\n",
    "occurs_more_than_10_times = sum([v for v in lang_dic['all'].values() if v >=10])\n",
    "print(occurs_more_than_10_times)"
   ]
  },
  {
   "cell_type": "code",
   "execution_count": 222,
   "id": "ce0ee369",
   "metadata": {},
   "outputs": [
    {
     "data": {
      "text/plain": [
       "0.7842092831087437"
      ]
     },
     "execution_count": 222,
     "metadata": {},
     "output_type": "execute_result"
    }
   ],
   "source": [
    "occurs_more_than_10_times/total_words"
   ]
  },
  {
   "cell_type": "code",
   "execution_count": 223,
   "id": "41b21d85",
   "metadata": {},
   "outputs": [],
   "source": [
    "max_count = 2\n",
    "remaining_word_index = [k for k, v in lang_dic['all'].items() if v > max_count]"
   ]
  },
  {
   "cell_type": "code",
   "execution_count": 224,
   "id": "9a342ccb",
   "metadata": {},
   "outputs": [],
   "source": [
    "hm = []\n",
    "for p, p_bow in lang_dic.items():\n",
    "    df_bow = pd.DataFrame([(k, v) for k, v in p_bow.items() if k in remaining_word_index], columns=['Word', p])\n",
    "    df_bow.set_index('Word', inplace=True)\n",
    "    hm.append(df_bow)\n",
    "\n",
    "# create one big dataframe\n",
    "df_bow = pd.concat(hm, axis=1)\n",
    "df_bow.fillna(0, inplace=True)"
   ]
  },
  {
   "cell_type": "code",
   "execution_count": 225,
   "id": "5210a1c4",
   "metadata": {},
   "outputs": [
    {
     "data": {
      "text/html": [
       "<div>\n",
       "<style scoped>\n",
       "    .dataframe tbody tr th:only-of-type {\n",
       "        vertical-align: middle;\n",
       "    }\n",
       "\n",
       "    .dataframe tbody tr th {\n",
       "        vertical-align: top;\n",
       "    }\n",
       "\n",
       "    .dataframe thead th {\n",
       "        text-align: right;\n",
       "    }\n",
       "</style>\n",
       "<table border=\"1\" class=\"dataframe\">\n",
       "  <thead>\n",
       "    <tr style=\"text-align: right;\">\n",
       "      <th></th>\n",
       "      <th>xho</th>\n",
       "      <th>eng</th>\n",
       "      <th>nso</th>\n",
       "      <th>ven</th>\n",
       "      <th>tsn</th>\n",
       "      <th>nbl</th>\n",
       "      <th>zul</th>\n",
       "      <th>ssw</th>\n",
       "      <th>tso</th>\n",
       "      <th>sot</th>\n",
       "      <th>afr</th>\n",
       "      <th>all</th>\n",
       "    </tr>\n",
       "    <tr>\n",
       "      <th>Word</th>\n",
       "      <th></th>\n",
       "      <th></th>\n",
       "      <th></th>\n",
       "      <th></th>\n",
       "      <th></th>\n",
       "      <th></th>\n",
       "      <th></th>\n",
       "      <th></th>\n",
       "      <th></th>\n",
       "      <th></th>\n",
       "      <th></th>\n",
       "      <th></th>\n",
       "    </tr>\n",
       "  </thead>\n",
       "  <tbody>\n",
       "    <tr>\n",
       "      <th>ya</th>\n",
       "      <td>1.0</td>\n",
       "      <td>0.0</td>\n",
       "      <td>6469.0</td>\n",
       "      <td>5158.0</td>\n",
       "      <td>6550.0</td>\n",
       "      <td>0.0</td>\n",
       "      <td>1.0</td>\n",
       "      <td>4.0</td>\n",
       "      <td>4126.0</td>\n",
       "      <td>5931.0</td>\n",
       "      <td>0.0</td>\n",
       "      <td>28240</td>\n",
       "    </tr>\n",
       "    <tr>\n",
       "      <th>a</th>\n",
       "      <td>85.0</td>\n",
       "      <td>2590.0</td>\n",
       "      <td>4255.0</td>\n",
       "      <td>3435.0</td>\n",
       "      <td>4016.0</td>\n",
       "      <td>72.0</td>\n",
       "      <td>203.0</td>\n",
       "      <td>62.0</td>\n",
       "      <td>2813.0</td>\n",
       "      <td>3577.0</td>\n",
       "      <td>137.0</td>\n",
       "      <td>21245</td>\n",
       "    </tr>\n",
       "    <tr>\n",
       "      <th>le</th>\n",
       "      <td>268.0</td>\n",
       "      <td>1.0</td>\n",
       "      <td>6434.0</td>\n",
       "      <td>6.0</td>\n",
       "      <td>6787.0</td>\n",
       "      <td>193.0</td>\n",
       "      <td>113.0</td>\n",
       "      <td>11.0</td>\n",
       "      <td>522.0</td>\n",
       "      <td>6737.0</td>\n",
       "      <td>4.0</td>\n",
       "      <td>21076</td>\n",
       "    </tr>\n",
       "    <tr>\n",
       "      <th>ka</th>\n",
       "      <td>47.0</td>\n",
       "      <td>0.0</td>\n",
       "      <td>6427.0</td>\n",
       "      <td>7.0</td>\n",
       "      <td>4339.0</td>\n",
       "      <td>188.0</td>\n",
       "      <td>135.0</td>\n",
       "      <td>0.0</td>\n",
       "      <td>1895.0</td>\n",
       "      <td>5130.0</td>\n",
       "      <td>0.0</td>\n",
       "      <td>18168</td>\n",
       "    </tr>\n",
       "    <tr>\n",
       "      <th>go</th>\n",
       "      <td>0.0</td>\n",
       "      <td>14.0</td>\n",
       "      <td>9172.0</td>\n",
       "      <td>1.0</td>\n",
       "      <td>7915.0</td>\n",
       "      <td>0.0</td>\n",
       "      <td>0.0</td>\n",
       "      <td>0.0</td>\n",
       "      <td>0.0</td>\n",
       "      <td>0.0</td>\n",
       "      <td>0.0</td>\n",
       "      <td>17102</td>\n",
       "    </tr>\n",
       "    <tr>\n",
       "      <th>e</th>\n",
       "      <td>22.0</td>\n",
       "      <td>46.0</td>\n",
       "      <td>3765.0</td>\n",
       "      <td>91.0</td>\n",
       "      <td>6435.0</td>\n",
       "      <td>25.0</td>\n",
       "      <td>33.0</td>\n",
       "      <td>30.0</td>\n",
       "      <td>41.0</td>\n",
       "      <td>5109.0</td>\n",
       "      <td>26.0</td>\n",
       "      <td>15623</td>\n",
       "    </tr>\n",
       "    <tr>\n",
       "      <th>na</th>\n",
       "      <td>358.0</td>\n",
       "      <td>3.0</td>\n",
       "      <td>437.0</td>\n",
       "      <td>5130.0</td>\n",
       "      <td>398.0</td>\n",
       "      <td>39.0</td>\n",
       "      <td>8.0</td>\n",
       "      <td>44.0</td>\n",
       "      <td>3988.0</td>\n",
       "      <td>413.0</td>\n",
       "      <td>385.0</td>\n",
       "      <td>11203</td>\n",
       "    </tr>\n",
       "    <tr>\n",
       "      <th>u</th>\n",
       "      <td>9.0</td>\n",
       "      <td>1.0</td>\n",
       "      <td>0.0</td>\n",
       "      <td>8191.0</td>\n",
       "      <td>1.0</td>\n",
       "      <td>5.0</td>\n",
       "      <td>28.0</td>\n",
       "      <td>5.0</td>\n",
       "      <td>1425.0</td>\n",
       "      <td>0.0</td>\n",
       "      <td>499.0</td>\n",
       "      <td>10164</td>\n",
       "    </tr>\n",
       "    <tr>\n",
       "      <th>die</th>\n",
       "      <td>0.0</td>\n",
       "      <td>1.0</td>\n",
       "      <td>0.0</td>\n",
       "      <td>3.0</td>\n",
       "      <td>2.0</td>\n",
       "      <td>1.0</td>\n",
       "      <td>0.0</td>\n",
       "      <td>2.0</td>\n",
       "      <td>1.0</td>\n",
       "      <td>1.0</td>\n",
       "      <td>10044.0</td>\n",
       "      <td>10055</td>\n",
       "    </tr>\n",
       "    <tr>\n",
       "      <th>wa</th>\n",
       "      <td>1.0</td>\n",
       "      <td>0.0</td>\n",
       "      <td>1570.0</td>\n",
       "      <td>2238.0</td>\n",
       "      <td>1680.0</td>\n",
       "      <td>1.0</td>\n",
       "      <td>0.0</td>\n",
       "      <td>7.0</td>\n",
       "      <td>2654.0</td>\n",
       "      <td>1876.0</td>\n",
       "      <td>0.0</td>\n",
       "      <td>10027</td>\n",
       "    </tr>\n",
       "    <tr>\n",
       "      <th>the</th>\n",
       "      <td>7.0</td>\n",
       "      <td>9950.0</td>\n",
       "      <td>8.0</td>\n",
       "      <td>6.0</td>\n",
       "      <td>14.0</td>\n",
       "      <td>4.0</td>\n",
       "      <td>7.0</td>\n",
       "      <td>2.0</td>\n",
       "      <td>1.0</td>\n",
       "      <td>7.0</td>\n",
       "      <td>6.0</td>\n",
       "      <td>10012</td>\n",
       "    </tr>\n",
       "    <tr>\n",
       "      <th>ba</th>\n",
       "      <td>0.0</td>\n",
       "      <td>0.0</td>\n",
       "      <td>2715.0</td>\n",
       "      <td>1.0</td>\n",
       "      <td>2288.0</td>\n",
       "      <td>1.0</td>\n",
       "      <td>1.0</td>\n",
       "      <td>0.0</td>\n",
       "      <td>16.0</td>\n",
       "      <td>3817.0</td>\n",
       "      <td>1.0</td>\n",
       "      <td>8840</td>\n",
       "    </tr>\n",
       "    <tr>\n",
       "      <th>o</th>\n",
       "      <td>4.0</td>\n",
       "      <td>7.0</td>\n",
       "      <td>2171.0</td>\n",
       "      <td>922.0</td>\n",
       "      <td>2752.0</td>\n",
       "      <td>0.0</td>\n",
       "      <td>0.0</td>\n",
       "      <td>1.0</td>\n",
       "      <td>12.0</td>\n",
       "      <td>2882.0</td>\n",
       "      <td>20.0</td>\n",
       "      <td>8771</td>\n",
       "    </tr>\n",
       "    <tr>\n",
       "      <th>ho</th>\n",
       "      <td>0.0</td>\n",
       "      <td>0.0</td>\n",
       "      <td>0.0</td>\n",
       "      <td>407.0</td>\n",
       "      <td>0.0</td>\n",
       "      <td>1.0</td>\n",
       "      <td>0.0</td>\n",
       "      <td>0.0</td>\n",
       "      <td>5.0</td>\n",
       "      <td>7985.0</td>\n",
       "      <td>0.0</td>\n",
       "      <td>8398</td>\n",
       "    </tr>\n",
       "    <tr>\n",
       "      <th>ku</th>\n",
       "      <td>20.0</td>\n",
       "      <td>0.0</td>\n",
       "      <td>0.0</td>\n",
       "      <td>32.0</td>\n",
       "      <td>0.0</td>\n",
       "      <td>51.0</td>\n",
       "      <td>33.0</td>\n",
       "      <td>60.0</td>\n",
       "      <td>8070.0</td>\n",
       "      <td>0.0</td>\n",
       "      <td>0.0</td>\n",
       "      <td>8266</td>\n",
       "    </tr>\n",
       "    <tr>\n",
       "      <th>of</th>\n",
       "      <td>14.0</td>\n",
       "      <td>6139.0</td>\n",
       "      <td>2.0</td>\n",
       "      <td>20.0</td>\n",
       "      <td>21.0</td>\n",
       "      <td>16.0</td>\n",
       "      <td>13.0</td>\n",
       "      <td>22.0</td>\n",
       "      <td>13.0</td>\n",
       "      <td>20.0</td>\n",
       "      <td>1313.0</td>\n",
       "      <td>7593</td>\n",
       "    </tr>\n",
       "    <tr>\n",
       "      <th>nga</th>\n",
       "      <td>0.0</td>\n",
       "      <td>0.0</td>\n",
       "      <td>0.0</td>\n",
       "      <td>3950.0</td>\n",
       "      <td>0.0</td>\n",
       "      <td>2.0</td>\n",
       "      <td>0.0</td>\n",
       "      <td>85.0</td>\n",
       "      <td>2903.0</td>\n",
       "      <td>0.0</td>\n",
       "      <td>0.0</td>\n",
       "      <td>6940</td>\n",
       "    </tr>\n",
       "    <tr>\n",
       "      <th>in</th>\n",
       "      <td>1.0</td>\n",
       "      <td>3228.0</td>\n",
       "      <td>1.0</td>\n",
       "      <td>3.0</td>\n",
       "      <td>7.0</td>\n",
       "      <td>3.0</td>\n",
       "      <td>0.0</td>\n",
       "      <td>3.0</td>\n",
       "      <td>0.0</td>\n",
       "      <td>2.0</td>\n",
       "      <td>2260.0</td>\n",
       "      <td>5508</td>\n",
       "    </tr>\n",
       "    <tr>\n",
       "      <th>ke</th>\n",
       "      <td>299.0</td>\n",
       "      <td>0.0</td>\n",
       "      <td>1467.0</td>\n",
       "      <td>1.0</td>\n",
       "      <td>1410.0</td>\n",
       "      <td>4.0</td>\n",
       "      <td>17.0</td>\n",
       "      <td>5.0</td>\n",
       "      <td>22.0</td>\n",
       "      <td>2210.0</td>\n",
       "      <td>0.0</td>\n",
       "      <td>5435</td>\n",
       "    </tr>\n",
       "    <tr>\n",
       "      <th>di</th>\n",
       "      <td>0.0</td>\n",
       "      <td>0.0</td>\n",
       "      <td>1888.0</td>\n",
       "      <td>25.0</td>\n",
       "      <td>2419.0</td>\n",
       "      <td>0.0</td>\n",
       "      <td>0.0</td>\n",
       "      <td>0.0</td>\n",
       "      <td>0.0</td>\n",
       "      <td>1098.0</td>\n",
       "      <td>2.0</td>\n",
       "      <td>5432</td>\n",
       "    </tr>\n",
       "  </tbody>\n",
       "</table>\n",
       "</div>"
      ],
      "text/plain": [
       "        xho     eng     nso     ven     tsn    nbl    zul   ssw     tso  \\\n",
       "Word                                                                      \n",
       "ya      1.0     0.0  6469.0  5158.0  6550.0    0.0    1.0   4.0  4126.0   \n",
       "a      85.0  2590.0  4255.0  3435.0  4016.0   72.0  203.0  62.0  2813.0   \n",
       "le    268.0     1.0  6434.0     6.0  6787.0  193.0  113.0  11.0   522.0   \n",
       "ka     47.0     0.0  6427.0     7.0  4339.0  188.0  135.0   0.0  1895.0   \n",
       "go      0.0    14.0  9172.0     1.0  7915.0    0.0    0.0   0.0     0.0   \n",
       "e      22.0    46.0  3765.0    91.0  6435.0   25.0   33.0  30.0    41.0   \n",
       "na    358.0     3.0   437.0  5130.0   398.0   39.0    8.0  44.0  3988.0   \n",
       "u       9.0     1.0     0.0  8191.0     1.0    5.0   28.0   5.0  1425.0   \n",
       "die     0.0     1.0     0.0     3.0     2.0    1.0    0.0   2.0     1.0   \n",
       "wa      1.0     0.0  1570.0  2238.0  1680.0    1.0    0.0   7.0  2654.0   \n",
       "the     7.0  9950.0     8.0     6.0    14.0    4.0    7.0   2.0     1.0   \n",
       "ba      0.0     0.0  2715.0     1.0  2288.0    1.0    1.0   0.0    16.0   \n",
       "o       4.0     7.0  2171.0   922.0  2752.0    0.0    0.0   1.0    12.0   \n",
       "ho      0.0     0.0     0.0   407.0     0.0    1.0    0.0   0.0     5.0   \n",
       "ku     20.0     0.0     0.0    32.0     0.0   51.0   33.0  60.0  8070.0   \n",
       "of     14.0  6139.0     2.0    20.0    21.0   16.0   13.0  22.0    13.0   \n",
       "nga     0.0     0.0     0.0  3950.0     0.0    2.0    0.0  85.0  2903.0   \n",
       "in      1.0  3228.0     1.0     3.0     7.0    3.0    0.0   3.0     0.0   \n",
       "ke    299.0     0.0  1467.0     1.0  1410.0    4.0   17.0   5.0    22.0   \n",
       "di      0.0     0.0  1888.0    25.0  2419.0    0.0    0.0   0.0     0.0   \n",
       "\n",
       "         sot      afr    all  \n",
       "Word                          \n",
       "ya    5931.0      0.0  28240  \n",
       "a     3577.0    137.0  21245  \n",
       "le    6737.0      4.0  21076  \n",
       "ka    5130.0      0.0  18168  \n",
       "go       0.0      0.0  17102  \n",
       "e     5109.0     26.0  15623  \n",
       "na     413.0    385.0  11203  \n",
       "u        0.0    499.0  10164  \n",
       "die      1.0  10044.0  10055  \n",
       "wa    1876.0      0.0  10027  \n",
       "the      7.0      6.0  10012  \n",
       "ba    3817.0      1.0   8840  \n",
       "o     2882.0     20.0   8771  \n",
       "ho    7985.0      0.0   8398  \n",
       "ku       0.0      0.0   8266  \n",
       "of      20.0   1313.0   7593  \n",
       "nga      0.0      0.0   6940  \n",
       "in       2.0   2260.0   5508  \n",
       "ke    2210.0      0.0   5435  \n",
       "di    1098.0      2.0   5432  "
      ]
     },
     "execution_count": 225,
     "metadata": {},
     "output_type": "execute_result"
    }
   ],
   "source": [
    "df_bow.sort_values(by='all', ascending=False).head(20)"
   ]
  },
  {
   "cell_type": "code",
   "execution_count": 226,
   "id": "f5c65ef3",
   "metadata": {},
   "outputs": [],
   "source": [
    "def choose(text):\n",
    "    text = ' '.join(l for l in text if l in remaining_word_index)\n",
    "    return text"
   ]
  },
  {
   "cell_type": "code",
   "execution_count": 227,
   "id": "50324265",
   "metadata": {},
   "outputs": [
    {
     "data": {
      "text/html": [
       "<div>\n",
       "<style scoped>\n",
       "    .dataframe tbody tr th:only-of-type {\n",
       "        vertical-align: middle;\n",
       "    }\n",
       "\n",
       "    .dataframe tbody tr th {\n",
       "        vertical-align: top;\n",
       "    }\n",
       "\n",
       "    .dataframe thead th {\n",
       "        text-align: right;\n",
       "    }\n",
       "</style>\n",
       "<table border=\"1\" class=\"dataframe\">\n",
       "  <thead>\n",
       "    <tr style=\"text-align: right;\">\n",
       "      <th></th>\n",
       "      <th>lang_id</th>\n",
       "      <th>text</th>\n",
       "      <th>text1</th>\n",
       "      <th>text2</th>\n",
       "    </tr>\n",
       "  </thead>\n",
       "  <tbody>\n",
       "    <tr>\n",
       "      <th>0</th>\n",
       "      <td>xho</td>\n",
       "      <td>[umgaqosiseko, wenza, amalungiselelo, kumaziko...</td>\n",
       "      <td>umgaqosiseko wenza amalungiselelo kumaziko axh...</td>\n",
       "      <td>umgaqosiseko wenza amalungiselelo kumaziko axh...</td>\n",
       "    </tr>\n",
       "    <tr>\n",
       "      <th>1</th>\n",
       "      <td>xho</td>\n",
       "      <td>[idha, iya, kuba, nobulumko, bokubeka, umseben...</td>\n",
       "      <td>idha iya kuba nobulumko bokubeka umsebenzi nap...</td>\n",
       "      <td>idha iya kuba umsebenzi na kwisebe kwiimfuno z...</td>\n",
       "    </tr>\n",
       "    <tr>\n",
       "      <th>2</th>\n",
       "      <td>eng</td>\n",
       "      <td>[the, province, of, kwazulunatal, department, ...</td>\n",
       "      <td>the province of kwazulunatal department of tra...</td>\n",
       "      <td>the province of kwazulunatal department of tra...</td>\n",
       "    </tr>\n",
       "    <tr>\n",
       "      <th>3</th>\n",
       "      <td>nso</td>\n",
       "      <td>[o, netefatša, gore, o, ba, file, dilo, ka, mo...</td>\n",
       "      <td>o netefatša gore o ba file dilo ka moka tše le...</td>\n",
       "      <td>o netefatša gore o ba file dilo ka moka tše le...</td>\n",
       "    </tr>\n",
       "    <tr>\n",
       "      <th>4</th>\n",
       "      <td>ven</td>\n",
       "      <td>[khomishini, ya, ndinganyiso, ya, mbeu, yo, ew...</td>\n",
       "      <td>khomishini ya ndinganyiso ya mbeu yo ewa maana...</td>\n",
       "      <td>khomishini ya ndinganyiso ya mbeu yo ewa maana...</td>\n",
       "    </tr>\n",
       "  </tbody>\n",
       "</table>\n",
       "</div>"
      ],
      "text/plain": [
       "  lang_id                                               text  \\\n",
       "0     xho  [umgaqosiseko, wenza, amalungiselelo, kumaziko...   \n",
       "1     xho  [idha, iya, kuba, nobulumko, bokubeka, umseben...   \n",
       "2     eng  [the, province, of, kwazulunatal, department, ...   \n",
       "3     nso  [o, netefatša, gore, o, ba, file, dilo, ka, mo...   \n",
       "4     ven  [khomishini, ya, ndinganyiso, ya, mbeu, yo, ew...   \n",
       "\n",
       "                                               text1  \\\n",
       "0  umgaqosiseko wenza amalungiselelo kumaziko axh...   \n",
       "1  idha iya kuba nobulumko bokubeka umsebenzi nap...   \n",
       "2  the province of kwazulunatal department of tra...   \n",
       "3  o netefatša gore o ba file dilo ka moka tše le...   \n",
       "4  khomishini ya ndinganyiso ya mbeu yo ewa maana...   \n",
       "\n",
       "                                               text2  \n",
       "0  umgaqosiseko wenza amalungiselelo kumaziko axh...  \n",
       "1  idha iya kuba umsebenzi na kwisebe kwiimfuno z...  \n",
       "2  the province of kwazulunatal department of tra...  \n",
       "3  o netefatša gore o ba file dilo ka moka tše le...  \n",
       "4  khomishini ya ndinganyiso ya mbeu yo ewa maana...  "
      ]
     },
     "execution_count": 227,
     "metadata": {},
     "output_type": "execute_result"
    }
   ],
   "source": [
    "train1['text2'] = train1['text'].apply(choose)\n",
    "train1.head()"
   ]
  },
  {
   "cell_type": "markdown",
   "id": "23bb0163",
   "metadata": {},
   "source": [
    "## Direction to model training"
   ]
  },
  {
   "cell_type": "markdown",
   "id": "03c04348",
   "metadata": {},
   "source": [
    "Assigning the y variable numbers or encoding y"
   ]
  },
  {
   "cell_type": "code",
   "execution_count": 228,
   "id": "2fac04c4",
   "metadata": {},
   "outputs": [],
   "source": [
    "from sklearn.preprocessing import LabelEncoder\n",
    "le = LabelEncoder()\n",
    "# Fit label encoder and return encoded labels\n",
    "y = le.fit_transform(train1['lang_id'])"
   ]
  },
  {
   "cell_type": "code",
   "execution_count": 229,
   "id": "6a1fe353",
   "metadata": {},
   "outputs": [
    {
     "data": {
      "text/plain": [
       "['afr', 'eng', 'nbl', 'nso', 'sot', 'ssw', 'tsn', 'tso', 'ven', 'xho', 'zul']"
      ]
     },
     "execution_count": 229,
     "metadata": {},
     "output_type": "execute_result"
    }
   ],
   "source": [
    "# List of label encoder types to use for lookup \n",
    "lang_labels = list(le.classes_)\n",
    "lang_labels"
   ]
  },
  {
   "cell_type": "code",
   "execution_count": 230,
   "id": "2424fd42",
   "metadata": {},
   "outputs": [],
   "source": [
    "text1 = train1['text2']\n",
    "\n",
    "vectorizer = CountVectorizer()\n",
    "X_vectorized1 = vectorizer.fit_transform(text1)"
   ]
  },
  {
   "cell_type": "markdown",
   "id": "f14ede68",
   "metadata": {},
   "source": [
    "Turning the predictor variables into vectors"
   ]
  },
  {
   "cell_type": "code",
   "execution_count": 231,
   "id": "d347e529",
   "metadata": {},
   "outputs": [],
   "source": [
    "data = train1['text1']\n",
    "\n",
    "vectorizer=TfidfVectorizer(use_idf=True, max_df=0.95)\n",
    "X_vectorized = vectorizer.fit_transform(data)"
   ]
  },
  {
   "cell_type": "markdown",
   "id": "ec48b07f",
   "metadata": {},
   "source": [
    "Spiliting the data into test and validation sets"
   ]
  },
  {
   "cell_type": "code",
   "execution_count": 232,
   "id": "a44b3d26",
   "metadata": {},
   "outputs": [],
   "source": [
    "# Splitting the training data into 80% training and 20% training\n",
    "X_train, X_test, y_train, y_test = train_test_split(X_vectorized1, y, test_size=0.25, random_state=42)"
   ]
  },
  {
   "cell_type": "markdown",
   "id": "543ecd91",
   "metadata": {},
   "source": [
    "## Model exploration"
   ]
  },
  {
   "cell_type": "code",
   "execution_count": 233,
   "id": "a93f4e39",
   "metadata": {},
   "outputs": [],
   "source": [
    "from sklearn.linear_model import LogisticRegression\n",
    "from sklearn.neighbors import KNeighborsClassifier\n",
    "from sklearn.svm import SVC\n",
    "from sklearn.discriminant_analysis import LinearDiscriminantAnalysis\n",
    "from sklearn.discriminant_analysis import QuadraticDiscriminantAnalysis\n",
    "from sklearn.tree import DecisionTreeClassifier\n",
    "from sklearn.ensemble import RandomForestClassifier, AdaBoostClassifier\n",
    "from sklearn.model_selection import cross_val_score\n",
    "from sklearn import metrics"
   ]
  },
  {
   "cell_type": "markdown",
   "id": "d0414c3e",
   "metadata": {},
   "source": [
    "## Logistic regrassion"
   ]
  },
  {
   "cell_type": "code",
   "execution_count": 234,
   "id": "eb55db6a",
   "metadata": {},
   "outputs": [],
   "source": [
    "#creating an instance\n",
    "lr = LogisticRegression(random_state = 42)"
   ]
  },
  {
   "cell_type": "code",
   "execution_count": 235,
   "id": "633a13c6",
   "metadata": {},
   "outputs": [
    {
     "data": {
      "text/html": [
       "<style>#sk-container-id-7 {color: black;background-color: white;}#sk-container-id-7 pre{padding: 0;}#sk-container-id-7 div.sk-toggleable {background-color: white;}#sk-container-id-7 label.sk-toggleable__label {cursor: pointer;display: block;width: 100%;margin-bottom: 0;padding: 0.3em;box-sizing: border-box;text-align: center;}#sk-container-id-7 label.sk-toggleable__label-arrow:before {content: \"▸\";float: left;margin-right: 0.25em;color: #696969;}#sk-container-id-7 label.sk-toggleable__label-arrow:hover:before {color: black;}#sk-container-id-7 div.sk-estimator:hover label.sk-toggleable__label-arrow:before {color: black;}#sk-container-id-7 div.sk-toggleable__content {max-height: 0;max-width: 0;overflow: hidden;text-align: left;background-color: #f0f8ff;}#sk-container-id-7 div.sk-toggleable__content pre {margin: 0.2em;color: black;border-radius: 0.25em;background-color: #f0f8ff;}#sk-container-id-7 input.sk-toggleable__control:checked~div.sk-toggleable__content {max-height: 200px;max-width: 100%;overflow: auto;}#sk-container-id-7 input.sk-toggleable__control:checked~label.sk-toggleable__label-arrow:before {content: \"▾\";}#sk-container-id-7 div.sk-estimator input.sk-toggleable__control:checked~label.sk-toggleable__label {background-color: #d4ebff;}#sk-container-id-7 div.sk-label input.sk-toggleable__control:checked~label.sk-toggleable__label {background-color: #d4ebff;}#sk-container-id-7 input.sk-hidden--visually {border: 0;clip: rect(1px 1px 1px 1px);clip: rect(1px, 1px, 1px, 1px);height: 1px;margin: -1px;overflow: hidden;padding: 0;position: absolute;width: 1px;}#sk-container-id-7 div.sk-estimator {font-family: monospace;background-color: #f0f8ff;border: 1px dotted black;border-radius: 0.25em;box-sizing: border-box;margin-bottom: 0.5em;}#sk-container-id-7 div.sk-estimator:hover {background-color: #d4ebff;}#sk-container-id-7 div.sk-parallel-item::after {content: \"\";width: 100%;border-bottom: 1px solid gray;flex-grow: 1;}#sk-container-id-7 div.sk-label:hover label.sk-toggleable__label {background-color: #d4ebff;}#sk-container-id-7 div.sk-serial::before {content: \"\";position: absolute;border-left: 1px solid gray;box-sizing: border-box;top: 0;bottom: 0;left: 50%;z-index: 0;}#sk-container-id-7 div.sk-serial {display: flex;flex-direction: column;align-items: center;background-color: white;padding-right: 0.2em;padding-left: 0.2em;position: relative;}#sk-container-id-7 div.sk-item {position: relative;z-index: 1;}#sk-container-id-7 div.sk-parallel {display: flex;align-items: stretch;justify-content: center;background-color: white;position: relative;}#sk-container-id-7 div.sk-item::before, #sk-container-id-7 div.sk-parallel-item::before {content: \"\";position: absolute;border-left: 1px solid gray;box-sizing: border-box;top: 0;bottom: 0;left: 50%;z-index: -1;}#sk-container-id-7 div.sk-parallel-item {display: flex;flex-direction: column;z-index: 1;position: relative;background-color: white;}#sk-container-id-7 div.sk-parallel-item:first-child::after {align-self: flex-end;width: 50%;}#sk-container-id-7 div.sk-parallel-item:last-child::after {align-self: flex-start;width: 50%;}#sk-container-id-7 div.sk-parallel-item:only-child::after {width: 0;}#sk-container-id-7 div.sk-dashed-wrapped {border: 1px dashed gray;margin: 0 0.4em 0.5em 0.4em;box-sizing: border-box;padding-bottom: 0.4em;background-color: white;}#sk-container-id-7 div.sk-label label {font-family: monospace;font-weight: bold;display: inline-block;line-height: 1.2em;}#sk-container-id-7 div.sk-label-container {text-align: center;}#sk-container-id-7 div.sk-container {/* jupyter's `normalize.less` sets `[hidden] { display: none; }` but bootstrap.min.css set `[hidden] { display: none !important; }` so we also need the `!important` here to be able to override the default hidden behavior on the sphinx rendered scikit-learn.org. See: https://github.com/scikit-learn/scikit-learn/issues/21755 */display: inline-block !important;position: relative;}#sk-container-id-7 div.sk-text-repr-fallback {display: none;}</style><div id=\"sk-container-id-7\" class=\"sk-top-container\"><div class=\"sk-text-repr-fallback\"><pre>LogisticRegression(random_state=42)</pre><b>In a Jupyter environment, please rerun this cell to show the HTML representation or trust the notebook. <br />On GitHub, the HTML representation is unable to render, please try loading this page with nbviewer.org.</b></div><div class=\"sk-container\" hidden><div class=\"sk-item\"><div class=\"sk-estimator sk-toggleable\"><input class=\"sk-toggleable__control sk-hidden--visually\" id=\"sk-estimator-id-15\" type=\"checkbox\" checked><label for=\"sk-estimator-id-15\" class=\"sk-toggleable__label sk-toggleable__label-arrow\">LogisticRegression</label><div class=\"sk-toggleable__content\"><pre>LogisticRegression(random_state=42)</pre></div></div></div></div></div>"
      ],
      "text/plain": [
       "LogisticRegression(random_state=42)"
      ]
     },
     "execution_count": 235,
     "metadata": {},
     "output_type": "execute_result"
    }
   ],
   "source": [
    "lr.fit(X_train, y_train)"
   ]
  },
  {
   "cell_type": "code",
   "execution_count": 236,
   "id": "18ca89d2",
   "metadata": {},
   "outputs": [],
   "source": [
    "y_pred = lr.predict(X_test)"
   ]
  },
  {
   "cell_type": "code",
   "execution_count": 237,
   "id": "d637b9e5",
   "metadata": {},
   "outputs": [
    {
     "name": "stdout",
     "output_type": "stream",
     "text": [
      "[[751   0   0   0   0   3   0   0   0   0   0]\n",
      " [  0 762   0   0   0   0   0   0   0   0   0]\n",
      " [  0   0 727   0   0   0   0   0   0   2   5]\n",
      " [  0   0   0 779   1   0   2   0   0   0   0]\n",
      " [  0   0   1   0 758   0   0   0   0   0   0]\n",
      " [  0   0   0   0   0 730   0   0   0   0   2]\n",
      " [  1   0   0   1   3   0 740   0   1   0   0]\n",
      " [  0   0   0   0   0   0   0 700   0   0   0]\n",
      " [  0   0   0   0   0   0   0   0 785   0   0]\n",
      " [  0   0   1   0   0   1   0   0   0 755   4]\n",
      " [  0   1   9   0   0   1   0   0   0   4 720]]\n",
      "\n",
      "\n",
      "The accuracy score of the SVC is: 0.9947878787878788\n",
      "\n",
      "\n",
      "Classification Report:\n",
      "\n",
      "               precision    recall  f1-score   support\n",
      "\n",
      "           0       1.00      1.00      1.00       754\n",
      "           1       1.00      1.00      1.00       762\n",
      "           2       0.99      0.99      0.99       734\n",
      "           3       1.00      1.00      1.00       782\n",
      "           4       0.99      1.00      1.00       759\n",
      "           5       0.99      1.00      1.00       732\n",
      "           6       1.00      0.99      0.99       746\n",
      "           7       1.00      1.00      1.00       700\n",
      "           8       1.00      1.00      1.00       785\n",
      "           9       0.99      0.99      0.99       761\n",
      "          10       0.98      0.98      0.98       735\n",
      "\n",
      "    accuracy                           0.99      8250\n",
      "   macro avg       0.99      0.99      0.99      8250\n",
      "weighted avg       0.99      0.99      0.99      8250\n",
      "\n"
     ]
    }
   ],
   "source": [
    "print(metrics.confusion_matrix(y_test,y_pred))\n",
    "print(\"\\n\\nThe accuracy score of the SVC is:\", accuracy_score(y_test, y_pred))\n",
    "print(\"\\n\\nClassification Report:\\n\\n\", classification_report(y_test, y_pred))"
   ]
  },
  {
   "cell_type": "markdown",
   "id": "67e1e5cf",
   "metadata": {},
   "source": [
    "## SVC"
   ]
  },
  {
   "cell_type": "code",
   "execution_count": 238,
   "id": "971e01ab",
   "metadata": {},
   "outputs": [
    {
     "name": "stdout",
     "output_type": "stream",
     "text": [
      "The accuracy score of the SVC is: 0.9941818181818182\n",
      "\n",
      "\n",
      "Classification Report:\n",
      "\n",
      "               precision    recall  f1-score   support\n",
      "\n",
      "           0       1.00      0.99      1.00       754\n",
      "           1       1.00      1.00      1.00       762\n",
      "           2       0.99      0.99      0.99       734\n",
      "           3       1.00      0.99      1.00       782\n",
      "           4       0.99      1.00      1.00       759\n",
      "           5       0.99      1.00      0.99       732\n",
      "           6       1.00      0.99      0.99       746\n",
      "           7       1.00      1.00      1.00       700\n",
      "           8       1.00      1.00      1.00       785\n",
      "           9       1.00      0.99      0.99       761\n",
      "          10       0.98      0.98      0.98       735\n",
      "\n",
      "    accuracy                           0.99      8250\n",
      "   macro avg       0.99      0.99      0.99      8250\n",
      "weighted avg       0.99      0.99      0.99      8250\n",
      "\n"
     ]
    }
   ],
   "source": [
    "svc = SVC(kernel='linear')\n",
    "svc.fit(X_train, y_train)\n",
    "y_pred1 = svc.predict(X_test)\n",
    "\n",
    "print(\"The accuracy score of the SVC is:\", accuracy_score(y_test, y_pred1))\n",
    "print(\"\\n\\nClassification Report:\\n\\n\", classification_report(y_test, y_pred1))"
   ]
  },
  {
   "cell_type": "code",
   "execution_count": 239,
   "id": "4f4741cb",
   "metadata": {},
   "outputs": [
    {
     "name": "stdout",
     "output_type": "stream",
     "text": [
      "[[749   1   0   0   0   3   0   0   0   1   0]\n",
      " [  0 761   1   0   0   0   0   0   0   0   0]\n",
      " [  1   0 722   0   0   0   0   0   0   2   9]\n",
      " [  0   0   1 777   1   0   3   0   0   0   0]\n",
      " [  0   0   0   0 758   0   0   0   0   1   0]\n",
      " [  0   0   0   0   0 730   0   0   0   0   2]\n",
      " [  1   0   0   1   3   0 740   0   1   0   0]\n",
      " [  0   0   0   0   0   0   0 700   0   0   0]\n",
      " [  0   0   0   0   0   0   0   0 785   0   0]\n",
      " [  0   0   1   0   0   0   0   0   0 753   7]\n",
      " [  0   1   6   0   0   2   0   0   0   7 719]]\n",
      "\n",
      "\n",
      "The accuracy score of the SVC is: 0.9932121212121212\n",
      "\n",
      "\n",
      "Classification Report:\n",
      "\n",
      "               precision    recall  f1-score   support\n",
      "\n",
      "           0       1.00      0.99      1.00       754\n",
      "           1       1.00      1.00      1.00       762\n",
      "           2       0.99      0.98      0.99       734\n",
      "           3       1.00      0.99      1.00       782\n",
      "           4       0.99      1.00      1.00       759\n",
      "           5       0.99      1.00      1.00       732\n",
      "           6       1.00      0.99      0.99       746\n",
      "           7       1.00      1.00      1.00       700\n",
      "           8       1.00      1.00      1.00       785\n",
      "           9       0.99      0.99      0.99       761\n",
      "          10       0.98      0.98      0.98       735\n",
      "\n",
      "    accuracy                           0.99      8250\n",
      "   macro avg       0.99      0.99      0.99      8250\n",
      "weighted avg       0.99      0.99      0.99      8250\n",
      "\n"
     ]
    }
   ],
   "source": [
    "svc1 = SVC(kernel='rbf')\n",
    "svc1.fit(X_train, y_train)\n",
    "y_pred2 = svc1.predict(X_test)\n",
    "\n",
    "print(metrics.confusion_matrix(y_test,y_pred2))\n",
    "print(\"\\n\\nThe accuracy score of the SVC is:\", accuracy_score(y_test, y_pred2))\n",
    "print(\"\\n\\nClassification Report:\\n\\n\", classification_report(y_test, y_pred2))"
   ]
  },
  {
   "cell_type": "code",
   "execution_count": 240,
   "id": "ab0e42d9",
   "metadata": {},
   "outputs": [],
   "source": [
    "from sklearn.pipeline import Pipeline\n",
    "from sklearn.naive_bayes import MultinomialNB\n",
    "from sklearn.metrics import classification_report, accuracy_score"
   ]
  },
  {
   "cell_type": "code",
   "execution_count": 241,
   "id": "b2eb2a56",
   "metadata": {},
   "outputs": [],
   "source": [
    "algs = [LogisticRegression(random_state = 5), SVC(kernel = 'linear', random_state = 5), SVC(kernel = 'rbf', random_state = 5)\n",
    "        ,MultinomialNB(), KNeighborsClassifier(), DecisionTreeClassifier(max_depth=6),RandomForestClassifier()]"
   ]
  },
  {
   "cell_type": "code",
   "execution_count": 242,
   "id": "1fff8197",
   "metadata": {},
   "outputs": [
    {
     "name": "stdout",
     "output_type": "stream",
     "text": [
      "LogisticRegression(random_state=5)\n",
      "[[751   0   0   0   0   3   0   0   0   0   0]\n",
      " [  0 762   0   0   0   0   0   0   0   0   0]\n",
      " [  0   0 727   0   0   0   0   0   0   2   5]\n",
      " [  0   0   0 779   1   0   2   0   0   0   0]\n",
      " [  0   0   1   0 758   0   0   0   0   0   0]\n",
      " [  0   0   0   0   0 730   0   0   0   0   2]\n",
      " [  1   0   0   1   3   0 740   0   1   0   0]\n",
      " [  0   0   0   0   0   0   0 700   0   0   0]\n",
      " [  0   0   0   0   0   0   0   0 785   0   0]\n",
      " [  0   0   1   0   0   1   0   0   0 755   4]\n",
      " [  0   1   9   0   0   1   0   0   0   4 720]]\n",
      "              precision    recall  f1-score   support\n",
      "\n",
      "           0       1.00      1.00      1.00       754\n",
      "           1       1.00      1.00      1.00       762\n",
      "           2       0.99      0.99      0.99       734\n",
      "           3       1.00      1.00      1.00       782\n",
      "           4       0.99      1.00      1.00       759\n",
      "           5       0.99      1.00      1.00       732\n",
      "           6       1.00      0.99      0.99       746\n",
      "           7       1.00      1.00      1.00       700\n",
      "           8       1.00      1.00      1.00       785\n",
      "           9       0.99      0.99      0.99       761\n",
      "          10       0.98      0.98      0.98       735\n",
      "\n",
      "    accuracy                           0.99      8250\n",
      "   macro avg       0.99      0.99      0.99      8250\n",
      "weighted avg       0.99      0.99      0.99      8250\n",
      "\n",
      "F1_score:  0.99479\n",
      "-------------------------------------------------------\n",
      "SVC(kernel='linear', random_state=5)\n",
      "[[750   0   0   0   0   4   0   0   0   0   0]\n",
      " [  0 760   0   0   0   0   0   0   0   0   2]\n",
      " [  1   0 728   0   0   0   0   0   0   0   5]\n",
      " [  0   0   0 778   1   0   2   0   0   1   0]\n",
      " [  0   0   0   0 759   0   0   0   0   0   0]\n",
      " [  0   0   0   0   0 729   0   0   0   0   3]\n",
      " [  1   0   0   1   3   0 740   0   1   0   0]\n",
      " [  0   0   0   0   0   0   0 700   0   0   0]\n",
      " [  0   0   0   0   0   0   0   0 785   0   0]\n",
      " [  0   0   2   0   0   0   0   0   0 751   8]\n",
      " [  0   1   7   0   0   3   0   0   0   2 722]]\n",
      "              precision    recall  f1-score   support\n",
      "\n",
      "           0       1.00      0.99      1.00       754\n",
      "           1       1.00      1.00      1.00       762\n",
      "           2       0.99      0.99      0.99       734\n",
      "           3       1.00      0.99      1.00       782\n",
      "           4       0.99      1.00      1.00       759\n",
      "           5       0.99      1.00      0.99       732\n",
      "           6       1.00      0.99      0.99       746\n",
      "           7       1.00      1.00      1.00       700\n",
      "           8       1.00      1.00      1.00       785\n",
      "           9       1.00      0.99      0.99       761\n",
      "          10       0.98      0.98      0.98       735\n",
      "\n",
      "    accuracy                           0.99      8250\n",
      "   macro avg       0.99      0.99      0.99      8250\n",
      "weighted avg       0.99      0.99      0.99      8250\n",
      "\n",
      "F1_score:  0.99419\n",
      "-------------------------------------------------------\n",
      "SVC(random_state=5)\n",
      "[[749   1   0   0   0   3   0   0   0   1   0]\n",
      " [  0 761   1   0   0   0   0   0   0   0   0]\n",
      " [  1   0 722   0   0   0   0   0   0   2   9]\n",
      " [  0   0   1 777   1   0   3   0   0   0   0]\n",
      " [  0   0   0   0 758   0   0   0   0   1   0]\n",
      " [  0   0   0   0   0 730   0   0   0   0   2]\n",
      " [  1   0   0   1   3   0 740   0   1   0   0]\n",
      " [  0   0   0   0   0   0   0 700   0   0   0]\n",
      " [  0   0   0   0   0   0   0   0 785   0   0]\n",
      " [  0   0   1   0   0   0   0   0   0 753   7]\n",
      " [  0   1   6   0   0   2   0   0   0   7 719]]\n",
      "              precision    recall  f1-score   support\n",
      "\n",
      "           0       1.00      0.99      1.00       754\n",
      "           1       1.00      1.00      1.00       762\n",
      "           2       0.99      0.98      0.99       734\n",
      "           3       1.00      0.99      1.00       782\n",
      "           4       0.99      1.00      1.00       759\n",
      "           5       0.99      1.00      1.00       732\n",
      "           6       1.00      0.99      0.99       746\n",
      "           7       1.00      1.00      1.00       700\n",
      "           8       1.00      1.00      1.00       785\n",
      "           9       0.99      0.99      0.99       761\n",
      "          10       0.98      0.98      0.98       735\n",
      "\n",
      "    accuracy                           0.99      8250\n",
      "   macro avg       0.99      0.99      0.99      8250\n",
      "weighted avg       0.99      0.99      0.99      8250\n",
      "\n",
      "F1_score:  0.99321\n",
      "-------------------------------------------------------\n",
      "MultinomialNB()\n",
      "[[754   0   0   0   0   0   0   0   0   0   0]\n",
      " [  0 762   0   0   0   0   0   0   0   0   0]\n",
      " [  0   0 734   0   0   0   0   0   0   0   0]\n",
      " [  0   0   0 781   1   0   0   0   0   0   0]\n",
      " [  0   0   0   0 759   0   0   0   0   0   0]\n",
      " [  0   0   0   0   0 732   0   0   0   0   0]\n",
      " [  1   0   0   0   0   0 745   0   0   0   0]\n",
      " [  0   0   0   0   0   0   0 700   0   0   0]\n",
      " [  0   0   0   0   0   0   0   0 785   0   0]\n",
      " [  0   0   2   0   0   0   0   0   0 758   1]\n",
      " [  0   1   2   0   0   0   0   0   0   0 732]]\n",
      "              precision    recall  f1-score   support\n",
      "\n",
      "           0       1.00      1.00      1.00       754\n",
      "           1       1.00      1.00      1.00       762\n",
      "           2       0.99      1.00      1.00       734\n",
      "           3       1.00      1.00      1.00       782\n",
      "           4       1.00      1.00      1.00       759\n",
      "           5       1.00      1.00      1.00       732\n",
      "           6       1.00      1.00      1.00       746\n",
      "           7       1.00      1.00      1.00       700\n",
      "           8       1.00      1.00      1.00       785\n",
      "           9       1.00      1.00      1.00       761\n",
      "          10       1.00      1.00      1.00       735\n",
      "\n",
      "    accuracy                           1.00      8250\n",
      "   macro avg       1.00      1.00      1.00      8250\n",
      "weighted avg       1.00      1.00      1.00      8250\n",
      "\n",
      "F1_score:  0.99903\n",
      "-------------------------------------------------------\n",
      "KNeighborsClassifier()\n",
      "[[727   0   0   0   0  27   0   0   0   0   0]\n",
      " [  2 689   0   0   0  70   0   0   0   0   1]\n",
      " [  0   0 204   0   0 514   0   0   0   0  16]\n",
      " [  0   0   0 683   0  19  80   0   0   0   0]\n",
      " [  0   0   1  11 675  35  34   0   0   1   2]\n",
      " [  0   0   0   0   0 710   0   0   0   0  22]\n",
      " [  1   0   1  51   7  31 655   0   0   0   0]\n",
      " [  0   0   0   0   2  83   0 615   0   0   0]\n",
      " [  0   0   0   0   0 149   0   0 636   0   0]\n",
      " [  0   0   3   0   0 561   0   0   0 127  70]\n",
      " [  0   0  14   0   0 418   0   0   0   0 303]]\n",
      "              precision    recall  f1-score   support\n",
      "\n",
      "           0       1.00      0.96      0.98       754\n",
      "           1       1.00      0.90      0.95       762\n",
      "           2       0.91      0.28      0.43       734\n",
      "           3       0.92      0.87      0.89       782\n",
      "           4       0.99      0.89      0.94       759\n",
      "           5       0.27      0.97      0.42       732\n",
      "           6       0.85      0.88      0.86       746\n",
      "           7       1.00      0.88      0.94       700\n",
      "           8       1.00      0.81      0.90       785\n",
      "           9       0.99      0.17      0.29       761\n",
      "          10       0.73      0.41      0.53       735\n",
      "\n",
      "    accuracy                           0.73      8250\n",
      "   macro avg       0.88      0.73      0.74      8250\n",
      "weighted avg       0.88      0.73      0.74      8250\n",
      "\n",
      "F1_score:  0.73975\n",
      "-------------------------------------------------------\n",
      "DecisionTreeClassifier(max_depth=6)\n",
      "[[702   0   0   0   0   0   0   0   0   0  52]\n",
      " [  0 706   0   0   0   0   0   0   0   0  56]\n",
      " [  1   0   0   0   1   0   0   6   0   0 726]\n",
      " [  0   0   0 580   0   0 142   0   0   0  60]\n",
      " [  0   0   0   0 692   0   0   0   0   0  67]\n",
      " [  1   0   0   0   0   4   0   8  18   0 701]\n",
      " [  0   1   0   2   0   0 678   0   0   0  65]\n",
      " [  0   0   0   0   0   4   0 639  36   0  21]\n",
      " [  0   1   0   0  29   0   0   3 549   0 203]\n",
      " [  0   2   0   0   0   0   0   6   0   0 753]\n",
      " [  0   3   0   0   0   2   0   7   0   0 723]]\n",
      "              precision    recall  f1-score   support\n",
      "\n",
      "           0       1.00      0.93      0.96       754\n",
      "           1       0.99      0.93      0.96       762\n",
      "           2       0.00      0.00      0.00       734\n",
      "           3       1.00      0.74      0.85       782\n",
      "           4       0.96      0.91      0.93       759\n",
      "           5       0.40      0.01      0.01       732\n",
      "           6       0.83      0.91      0.87       746\n",
      "           7       0.96      0.91      0.93       700\n",
      "           8       0.91      0.70      0.79       785\n",
      "           9       0.00      0.00      0.00       761\n",
      "          10       0.21      0.98      0.35       735\n",
      "\n",
      "    accuracy                           0.64      8250\n",
      "   macro avg       0.66      0.64      0.60      8250\n",
      "weighted avg       0.66      0.64      0.61      8250\n",
      "\n",
      "F1_score:  0.6077\n",
      "-------------------------------------------------------\n"
     ]
    },
    {
     "name": "stdout",
     "output_type": "stream",
     "text": [
      "RandomForestClassifier()\n",
      "[[753   0   0   0   0   1   0   0   0   0   0]\n",
      " [  0 762   0   0   0   0   0   0   0   0   0]\n",
      " [  1   1 694   0   0  11   0   0   0  10  17]\n",
      " [  0   0   0 779   1   0   2   0   0   0   0]\n",
      " [  0   0   0   1 758   0   0   0   0   0   0]\n",
      " [  0   1   2   0   0 706   0   0   0   0  23]\n",
      " [  1   0   0   0   2   0 743   0   0   0   0]\n",
      " [  0   0   0   0   0   0   0 700   0   0   0]\n",
      " [  0   0   0   0   0   0   0   0 785   0   0]\n",
      " [  0   0   5   0   0   6   0   0   0 734  16]\n",
      " [  0   2  12   0   0   7   0   0   0  15 699]]\n",
      "              precision    recall  f1-score   support\n",
      "\n",
      "           0       1.00      1.00      1.00       754\n",
      "           1       0.99      1.00      1.00       762\n",
      "           2       0.97      0.95      0.96       734\n",
      "           3       1.00      1.00      1.00       782\n",
      "           4       1.00      1.00      1.00       759\n",
      "           5       0.97      0.96      0.97       732\n",
      "           6       1.00      1.00      1.00       746\n",
      "           7       1.00      1.00      1.00       700\n",
      "           8       1.00      1.00      1.00       785\n",
      "           9       0.97      0.96      0.97       761\n",
      "          10       0.93      0.95      0.94       735\n",
      "\n",
      "    accuracy                           0.98      8250\n",
      "   macro avg       0.98      0.98      0.98      8250\n",
      "weighted avg       0.98      0.98      0.98      8250\n",
      "\n",
      "F1_score:  0.98341\n",
      "-------------------------------------------------------\n"
     ]
    }
   ],
   "source": [
    "for i in range(0, len(algs)):\n",
    "    text_clf = Pipeline([('clf', algs[i])])\n",
    "    ##lowercase = True,stop_words='english', ngram_range=(1, 2), analyzer='word',max_df = 0.8\n",
    "    text_clf.fit(X_train, y_train)  \n",
    "    predictions = text_clf.predict(X_test)\n",
    "    \n",
    "    \n",
    "    print(algs[i])\n",
    "    print(metrics.confusion_matrix(y_test,predictions))\n",
    "    print(metrics.classification_report(y_test,predictions))\n",
    "    print('F1_score: ',round(metrics.f1_score(y_test,predictions, average = 'weighted'),5))\n",
    "    print('-------------------------------------------------------')"
   ]
  },
  {
   "cell_type": "code",
   "execution_count": 243,
   "id": "01dfbb13",
   "metadata": {},
   "outputs": [
    {
     "data": {
      "text/plain": [
       "{'alpha': 0.001, 'class_prior': None, 'fit_prior': True}"
      ]
     },
     "execution_count": 243,
     "metadata": {},
     "output_type": "execute_result"
    }
   ],
   "source": [
    "NB_param=NB.get_params()\n",
    "NB_param"
   ]
  },
  {
   "cell_type": "code",
   "execution_count": 244,
   "id": "a9bbf87e",
   "metadata": {},
   "outputs": [],
   "source": [
    "alpha = [0.001, 0.01, 0.1, 1, 10]"
   ]
  },
  {
   "cell_type": "code",
   "execution_count": 245,
   "id": "0ad427a3",
   "metadata": {},
   "outputs": [
    {
     "data": {
      "text/html": [
       "<style>#sk-container-id-8 {color: black;background-color: white;}#sk-container-id-8 pre{padding: 0;}#sk-container-id-8 div.sk-toggleable {background-color: white;}#sk-container-id-8 label.sk-toggleable__label {cursor: pointer;display: block;width: 100%;margin-bottom: 0;padding: 0.3em;box-sizing: border-box;text-align: center;}#sk-container-id-8 label.sk-toggleable__label-arrow:before {content: \"▸\";float: left;margin-right: 0.25em;color: #696969;}#sk-container-id-8 label.sk-toggleable__label-arrow:hover:before {color: black;}#sk-container-id-8 div.sk-estimator:hover label.sk-toggleable__label-arrow:before {color: black;}#sk-container-id-8 div.sk-toggleable__content {max-height: 0;max-width: 0;overflow: hidden;text-align: left;background-color: #f0f8ff;}#sk-container-id-8 div.sk-toggleable__content pre {margin: 0.2em;color: black;border-radius: 0.25em;background-color: #f0f8ff;}#sk-container-id-8 input.sk-toggleable__control:checked~div.sk-toggleable__content {max-height: 200px;max-width: 100%;overflow: auto;}#sk-container-id-8 input.sk-toggleable__control:checked~label.sk-toggleable__label-arrow:before {content: \"▾\";}#sk-container-id-8 div.sk-estimator input.sk-toggleable__control:checked~label.sk-toggleable__label {background-color: #d4ebff;}#sk-container-id-8 div.sk-label input.sk-toggleable__control:checked~label.sk-toggleable__label {background-color: #d4ebff;}#sk-container-id-8 input.sk-hidden--visually {border: 0;clip: rect(1px 1px 1px 1px);clip: rect(1px, 1px, 1px, 1px);height: 1px;margin: -1px;overflow: hidden;padding: 0;position: absolute;width: 1px;}#sk-container-id-8 div.sk-estimator {font-family: monospace;background-color: #f0f8ff;border: 1px dotted black;border-radius: 0.25em;box-sizing: border-box;margin-bottom: 0.5em;}#sk-container-id-8 div.sk-estimator:hover {background-color: #d4ebff;}#sk-container-id-8 div.sk-parallel-item::after {content: \"\";width: 100%;border-bottom: 1px solid gray;flex-grow: 1;}#sk-container-id-8 div.sk-label:hover label.sk-toggleable__label {background-color: #d4ebff;}#sk-container-id-8 div.sk-serial::before {content: \"\";position: absolute;border-left: 1px solid gray;box-sizing: border-box;top: 0;bottom: 0;left: 50%;z-index: 0;}#sk-container-id-8 div.sk-serial {display: flex;flex-direction: column;align-items: center;background-color: white;padding-right: 0.2em;padding-left: 0.2em;position: relative;}#sk-container-id-8 div.sk-item {position: relative;z-index: 1;}#sk-container-id-8 div.sk-parallel {display: flex;align-items: stretch;justify-content: center;background-color: white;position: relative;}#sk-container-id-8 div.sk-item::before, #sk-container-id-8 div.sk-parallel-item::before {content: \"\";position: absolute;border-left: 1px solid gray;box-sizing: border-box;top: 0;bottom: 0;left: 50%;z-index: -1;}#sk-container-id-8 div.sk-parallel-item {display: flex;flex-direction: column;z-index: 1;position: relative;background-color: white;}#sk-container-id-8 div.sk-parallel-item:first-child::after {align-self: flex-end;width: 50%;}#sk-container-id-8 div.sk-parallel-item:last-child::after {align-self: flex-start;width: 50%;}#sk-container-id-8 div.sk-parallel-item:only-child::after {width: 0;}#sk-container-id-8 div.sk-dashed-wrapped {border: 1px dashed gray;margin: 0 0.4em 0.5em 0.4em;box-sizing: border-box;padding-bottom: 0.4em;background-color: white;}#sk-container-id-8 div.sk-label label {font-family: monospace;font-weight: bold;display: inline-block;line-height: 1.2em;}#sk-container-id-8 div.sk-label-container {text-align: center;}#sk-container-id-8 div.sk-container {/* jupyter's `normalize.less` sets `[hidden] { display: none; }` but bootstrap.min.css set `[hidden] { display: none !important; }` so we also need the `!important` here to be able to override the default hidden behavior on the sphinx rendered scikit-learn.org. See: https://github.com/scikit-learn/scikit-learn/issues/21755 */display: inline-block !important;position: relative;}#sk-container-id-8 div.sk-text-repr-fallback {display: none;}</style><div id=\"sk-container-id-8\" class=\"sk-top-container\"><div class=\"sk-text-repr-fallback\"><pre>GridSearchCV(cv=2, estimator=MultinomialNB(),\n",
       "             param_grid={&#x27;alpha&#x27;: [0.001, 0.01, 0.1, 1, 10]}, scoring=&#x27;f1&#x27;)</pre><b>In a Jupyter environment, please rerun this cell to show the HTML representation or trust the notebook. <br />On GitHub, the HTML representation is unable to render, please try loading this page with nbviewer.org.</b></div><div class=\"sk-container\" hidden><div class=\"sk-item sk-dashed-wrapped\"><div class=\"sk-label-container\"><div class=\"sk-label sk-toggleable\"><input class=\"sk-toggleable__control sk-hidden--visually\" id=\"sk-estimator-id-16\" type=\"checkbox\" ><label for=\"sk-estimator-id-16\" class=\"sk-toggleable__label sk-toggleable__label-arrow\">GridSearchCV</label><div class=\"sk-toggleable__content\"><pre>GridSearchCV(cv=2, estimator=MultinomialNB(),\n",
       "             param_grid={&#x27;alpha&#x27;: [0.001, 0.01, 0.1, 1, 10]}, scoring=&#x27;f1&#x27;)</pre></div></div></div><div class=\"sk-parallel\"><div class=\"sk-parallel-item\"><div class=\"sk-item\"><div class=\"sk-label-container\"><div class=\"sk-label sk-toggleable\"><input class=\"sk-toggleable__control sk-hidden--visually\" id=\"sk-estimator-id-17\" type=\"checkbox\" ><label for=\"sk-estimator-id-17\" class=\"sk-toggleable__label sk-toggleable__label-arrow\">estimator: MultinomialNB</label><div class=\"sk-toggleable__content\"><pre>MultinomialNB()</pre></div></div></div><div class=\"sk-serial\"><div class=\"sk-item\"><div class=\"sk-estimator sk-toggleable\"><input class=\"sk-toggleable__control sk-hidden--visually\" id=\"sk-estimator-id-18\" type=\"checkbox\" ><label for=\"sk-estimator-id-18\" class=\"sk-toggleable__label sk-toggleable__label-arrow\">MultinomialNB</label><div class=\"sk-toggleable__content\"><pre>MultinomialNB()</pre></div></div></div></div></div></div></div></div></div></div>"
      ],
      "text/plain": [
       "GridSearchCV(cv=2, estimator=MultinomialNB(),\n",
       "             param_grid={'alpha': [0.001, 0.01, 0.1, 1, 10]}, scoring='f1')"
      ]
     },
     "execution_count": 245,
     "metadata": {},
     "output_type": "execute_result"
    }
   ],
   "source": [
    "from sklearn.model_selection import GridSearchCV\n",
    "nfolds = 2\n",
    "param_grid = {\n",
    "    'alpha'     : alpha, \n",
    "    }\n",
    "\n",
    "grid_NB = GridSearchCV(MultinomialNB(), param_grid, scoring='f1', cv=nfolds)\n",
    "grid_NB.fit(X_train, y_train)"
   ]
  },
  {
   "cell_type": "code",
   "execution_count": 246,
   "id": "c3de24cd",
   "metadata": {},
   "outputs": [
    {
     "data": {
      "text/plain": [
       "{'alpha': 0.001}"
      ]
     },
     "execution_count": 246,
     "metadata": {},
     "output_type": "execute_result"
    }
   ],
   "source": [
    "grid_NB.best_params_"
   ]
  },
  {
   "cell_type": "code",
   "execution_count": 247,
   "id": "abede055",
   "metadata": {},
   "outputs": [],
   "source": [
    "NB = MultinomialNB(alpha = 0.001)"
   ]
  },
  {
   "cell_type": "code",
   "execution_count": 248,
   "id": "69c5e458",
   "metadata": {},
   "outputs": [
    {
     "name": "stdout",
     "output_type": "stream",
     "text": [
      "[[754   0   0   0   0   0   0   0   0   0   0]\n",
      " [  0 762   0   0   0   0   0   0   0   0   0]\n",
      " [  0   0 733   0   0   0   0   0   0   0   1]\n",
      " [  0   0   0 780   2   0   0   0   0   0   0]\n",
      " [  0   0   0   0 759   0   0   0   0   0   0]\n",
      " [  0   0   0   0   0 732   0   0   0   0   0]\n",
      " [  1   0   0   0   0   0 745   0   0   0   0]\n",
      " [  0   0   0   0   0   0   0 700   0   0   0]\n",
      " [  0   0   0   0   0   0   0   0 785   0   0]\n",
      " [  0   0   1   0   0   0   0   0   0 760   0]\n",
      " [  0   0   2   0   0   0   0   0   0   1 732]]\n",
      "\n",
      "\n",
      "The accuracy score of the SVC is: 0.999030303030303\n",
      "\n",
      "\n",
      "Classification Report:\n",
      "\n",
      "               precision    recall  f1-score   support\n",
      "\n",
      "           0       1.00      1.00      1.00       754\n",
      "           1       1.00      1.00      1.00       762\n",
      "           2       1.00      1.00      1.00       734\n",
      "           3       1.00      1.00      1.00       782\n",
      "           4       1.00      1.00      1.00       759\n",
      "           5       1.00      1.00      1.00       732\n",
      "           6       1.00      1.00      1.00       746\n",
      "           7       1.00      1.00      1.00       700\n",
      "           8       1.00      1.00      1.00       785\n",
      "           9       1.00      1.00      1.00       761\n",
      "          10       1.00      1.00      1.00       735\n",
      "\n",
      "    accuracy                           1.00      8250\n",
      "   macro avg       1.00      1.00      1.00      8250\n",
      "weighted avg       1.00      1.00      1.00      8250\n",
      "\n"
     ]
    }
   ],
   "source": [
    "NB.fit(X_train,y_train)\n",
    "y_predB = NB.predict(X_test)\n",
    "\n",
    "print(metrics.confusion_matrix(y_test,y_predB))\n",
    "print(\"\\n\\nThe accuracy score of the SVC is:\", accuracy_score(y_test, y_predB))\n",
    "print(\"\\n\\nClassification Report:\\n\\n\", classification_report(y_test, y_predB))"
   ]
  },
  {
   "cell_type": "markdown",
   "id": "231be63d",
   "metadata": {},
   "source": [
    "## Hyperparameter tuning of MultinomialNB"
   ]
  },
  {
   "cell_type": "markdown",
   "id": "5376bee8",
   "metadata": {},
   "source": [
    "Alpha option to choose from"
   ]
  },
  {
   "cell_type": "code",
   "execution_count": 249,
   "id": "fc2a3e43",
   "metadata": {},
   "outputs": [],
   "source": [
    "alpha = [0.001, 0.01, 0.1, 1, 10]"
   ]
  },
  {
   "cell_type": "markdown",
   "id": "da19381b",
   "metadata": {},
   "source": [
    "Making a grid search for the model"
   ]
  },
  {
   "cell_type": "code",
   "execution_count": 250,
   "id": "6dd55a7c",
   "metadata": {},
   "outputs": [
    {
     "data": {
      "text/html": [
       "<style>#sk-container-id-9 {color: black;background-color: white;}#sk-container-id-9 pre{padding: 0;}#sk-container-id-9 div.sk-toggleable {background-color: white;}#sk-container-id-9 label.sk-toggleable__label {cursor: pointer;display: block;width: 100%;margin-bottom: 0;padding: 0.3em;box-sizing: border-box;text-align: center;}#sk-container-id-9 label.sk-toggleable__label-arrow:before {content: \"▸\";float: left;margin-right: 0.25em;color: #696969;}#sk-container-id-9 label.sk-toggleable__label-arrow:hover:before {color: black;}#sk-container-id-9 div.sk-estimator:hover label.sk-toggleable__label-arrow:before {color: black;}#sk-container-id-9 div.sk-toggleable__content {max-height: 0;max-width: 0;overflow: hidden;text-align: left;background-color: #f0f8ff;}#sk-container-id-9 div.sk-toggleable__content pre {margin: 0.2em;color: black;border-radius: 0.25em;background-color: #f0f8ff;}#sk-container-id-9 input.sk-toggleable__control:checked~div.sk-toggleable__content {max-height: 200px;max-width: 100%;overflow: auto;}#sk-container-id-9 input.sk-toggleable__control:checked~label.sk-toggleable__label-arrow:before {content: \"▾\";}#sk-container-id-9 div.sk-estimator input.sk-toggleable__control:checked~label.sk-toggleable__label {background-color: #d4ebff;}#sk-container-id-9 div.sk-label input.sk-toggleable__control:checked~label.sk-toggleable__label {background-color: #d4ebff;}#sk-container-id-9 input.sk-hidden--visually {border: 0;clip: rect(1px 1px 1px 1px);clip: rect(1px, 1px, 1px, 1px);height: 1px;margin: -1px;overflow: hidden;padding: 0;position: absolute;width: 1px;}#sk-container-id-9 div.sk-estimator {font-family: monospace;background-color: #f0f8ff;border: 1px dotted black;border-radius: 0.25em;box-sizing: border-box;margin-bottom: 0.5em;}#sk-container-id-9 div.sk-estimator:hover {background-color: #d4ebff;}#sk-container-id-9 div.sk-parallel-item::after {content: \"\";width: 100%;border-bottom: 1px solid gray;flex-grow: 1;}#sk-container-id-9 div.sk-label:hover label.sk-toggleable__label {background-color: #d4ebff;}#sk-container-id-9 div.sk-serial::before {content: \"\";position: absolute;border-left: 1px solid gray;box-sizing: border-box;top: 0;bottom: 0;left: 50%;z-index: 0;}#sk-container-id-9 div.sk-serial {display: flex;flex-direction: column;align-items: center;background-color: white;padding-right: 0.2em;padding-left: 0.2em;position: relative;}#sk-container-id-9 div.sk-item {position: relative;z-index: 1;}#sk-container-id-9 div.sk-parallel {display: flex;align-items: stretch;justify-content: center;background-color: white;position: relative;}#sk-container-id-9 div.sk-item::before, #sk-container-id-9 div.sk-parallel-item::before {content: \"\";position: absolute;border-left: 1px solid gray;box-sizing: border-box;top: 0;bottom: 0;left: 50%;z-index: -1;}#sk-container-id-9 div.sk-parallel-item {display: flex;flex-direction: column;z-index: 1;position: relative;background-color: white;}#sk-container-id-9 div.sk-parallel-item:first-child::after {align-self: flex-end;width: 50%;}#sk-container-id-9 div.sk-parallel-item:last-child::after {align-self: flex-start;width: 50%;}#sk-container-id-9 div.sk-parallel-item:only-child::after {width: 0;}#sk-container-id-9 div.sk-dashed-wrapped {border: 1px dashed gray;margin: 0 0.4em 0.5em 0.4em;box-sizing: border-box;padding-bottom: 0.4em;background-color: white;}#sk-container-id-9 div.sk-label label {font-family: monospace;font-weight: bold;display: inline-block;line-height: 1.2em;}#sk-container-id-9 div.sk-label-container {text-align: center;}#sk-container-id-9 div.sk-container {/* jupyter's `normalize.less` sets `[hidden] { display: none; }` but bootstrap.min.css set `[hidden] { display: none !important; }` so we also need the `!important` here to be able to override the default hidden behavior on the sphinx rendered scikit-learn.org. See: https://github.com/scikit-learn/scikit-learn/issues/21755 */display: inline-block !important;position: relative;}#sk-container-id-9 div.sk-text-repr-fallback {display: none;}</style><div id=\"sk-container-id-9\" class=\"sk-top-container\"><div class=\"sk-text-repr-fallback\"><pre>GridSearchCV(cv=2, estimator=MultinomialNB(),\n",
       "             param_grid={&#x27;alpha&#x27;: [0.001, 0.01, 0.1, 1, 10]}, scoring=&#x27;f1&#x27;)</pre><b>In a Jupyter environment, please rerun this cell to show the HTML representation or trust the notebook. <br />On GitHub, the HTML representation is unable to render, please try loading this page with nbviewer.org.</b></div><div class=\"sk-container\" hidden><div class=\"sk-item sk-dashed-wrapped\"><div class=\"sk-label-container\"><div class=\"sk-label sk-toggleable\"><input class=\"sk-toggleable__control sk-hidden--visually\" id=\"sk-estimator-id-19\" type=\"checkbox\" ><label for=\"sk-estimator-id-19\" class=\"sk-toggleable__label sk-toggleable__label-arrow\">GridSearchCV</label><div class=\"sk-toggleable__content\"><pre>GridSearchCV(cv=2, estimator=MultinomialNB(),\n",
       "             param_grid={&#x27;alpha&#x27;: [0.001, 0.01, 0.1, 1, 10]}, scoring=&#x27;f1&#x27;)</pre></div></div></div><div class=\"sk-parallel\"><div class=\"sk-parallel-item\"><div class=\"sk-item\"><div class=\"sk-label-container\"><div class=\"sk-label sk-toggleable\"><input class=\"sk-toggleable__control sk-hidden--visually\" id=\"sk-estimator-id-20\" type=\"checkbox\" ><label for=\"sk-estimator-id-20\" class=\"sk-toggleable__label sk-toggleable__label-arrow\">estimator: MultinomialNB</label><div class=\"sk-toggleable__content\"><pre>MultinomialNB()</pre></div></div></div><div class=\"sk-serial\"><div class=\"sk-item\"><div class=\"sk-estimator sk-toggleable\"><input class=\"sk-toggleable__control sk-hidden--visually\" id=\"sk-estimator-id-21\" type=\"checkbox\" ><label for=\"sk-estimator-id-21\" class=\"sk-toggleable__label sk-toggleable__label-arrow\">MultinomialNB</label><div class=\"sk-toggleable__content\"><pre>MultinomialNB()</pre></div></div></div></div></div></div></div></div></div></div>"
      ],
      "text/plain": [
       "GridSearchCV(cv=2, estimator=MultinomialNB(),\n",
       "             param_grid={'alpha': [0.001, 0.01, 0.1, 1, 10]}, scoring='f1')"
      ]
     },
     "execution_count": 250,
     "metadata": {},
     "output_type": "execute_result"
    }
   ],
   "source": [
    "from sklearn.model_selection import GridSearchCV\n",
    "nfolds = 2\n",
    "param_grid = {\n",
    "    'alpha'     : alpha, \n",
    "    }\n",
    "\n",
    "grid_NB = GridSearchCV(MultinomialNB(), param_grid, scoring='f1', cv=nfolds)\n",
    "grid_NB.fit(X_train, y_train)"
   ]
  },
  {
   "cell_type": "markdown",
   "id": "dbb83e84",
   "metadata": {},
   "source": [
    "Searching for the best hyperparameters"
   ]
  },
  {
   "cell_type": "code",
   "execution_count": 251,
   "id": "783adacd",
   "metadata": {},
   "outputs": [
    {
     "data": {
      "text/plain": [
       "{'alpha': 0.001}"
      ]
     },
     "execution_count": 251,
     "metadata": {},
     "output_type": "execute_result"
    }
   ],
   "source": [
    "grid_NB.best_params_"
   ]
  },
  {
   "cell_type": "markdown",
   "id": "e2ec44f4",
   "metadata": {},
   "source": [
    "Buildig the model"
   ]
  },
  {
   "cell_type": "code",
   "execution_count": 252,
   "id": "cdcfdfd8",
   "metadata": {},
   "outputs": [],
   "source": [
    "NB_1 = MultinomialNB(alpha = 0.001)"
   ]
  },
  {
   "cell_type": "code",
   "execution_count": 253,
   "id": "861f99c3",
   "metadata": {},
   "outputs": [
    {
     "name": "stdout",
     "output_type": "stream",
     "text": [
      "[[754   0   0   0   0   0   0   0   0   0   0]\n",
      " [  0 762   0   0   0   0   0   0   0   0   0]\n",
      " [  0   0 733   0   0   0   0   0   0   0   1]\n",
      " [  0   0   0 780   2   0   0   0   0   0   0]\n",
      " [  0   0   0   0 759   0   0   0   0   0   0]\n",
      " [  0   0   0   0   0 732   0   0   0   0   0]\n",
      " [  1   0   0   0   0   0 745   0   0   0   0]\n",
      " [  0   0   0   0   0   0   0 700   0   0   0]\n",
      " [  0   0   0   0   0   0   0   0 785   0   0]\n",
      " [  0   0   1   0   0   0   0   0   0 760   0]\n",
      " [  0   0   2   0   0   0   0   0   0   1 732]]\n",
      "\n",
      "\n",
      "The accuracy score of the MultinomialNB is: 0.999030303030303\n",
      "\n",
      "\n",
      "Classification Report:\n",
      "\n",
      "               precision    recall  f1-score   support\n",
      "\n",
      "           0       1.00      1.00      1.00       754\n",
      "           1       1.00      1.00      1.00       762\n",
      "           2       1.00      1.00      1.00       734\n",
      "           3       1.00      1.00      1.00       782\n",
      "           4       1.00      1.00      1.00       759\n",
      "           5       1.00      1.00      1.00       732\n",
      "           6       1.00      1.00      1.00       746\n",
      "           7       1.00      1.00      1.00       700\n",
      "           8       1.00      1.00      1.00       785\n",
      "           9       1.00      1.00      1.00       761\n",
      "          10       1.00      1.00      1.00       735\n",
      "\n",
      "    accuracy                           1.00      8250\n",
      "   macro avg       1.00      1.00      1.00      8250\n",
      "weighted avg       1.00      1.00      1.00      8250\n",
      "\n"
     ]
    }
   ],
   "source": [
    "NB_1.fit(X_train,y_train)\n",
    "y_predB = NB_1.predict(X_test)\n",
    "\n",
    "print(metrics.confusion_matrix(y_test,y_predB))\n",
    "print(\"\\n\\nThe accuracy score of the MultinomialNB is:\", accuracy_score(y_test, y_predB))\n",
    "print(\"\\n\\nClassification Report:\\n\\n\", classification_report(y_test, y_predB))"
   ]
  },
  {
   "cell_type": "markdown",
   "id": "1c686740",
   "metadata": {},
   "source": [
    "Storing the names of the models and initialising them."
   ]
  },
  {
   "cell_type": "code",
   "execution_count": 254,
   "id": "e65cfbc2",
   "metadata": {},
   "outputs": [],
   "source": [
    "names = ['Logistic Regression', 'Nearest Neighbors', \n",
    "         'Linear SVM', 'RBF SVM',          \n",
    "         'Decision Tree', 'Random Forest',  'AdaBoost']"
   ]
  },
  {
   "cell_type": "code",
   "execution_count": 255,
   "id": "4678d8ed",
   "metadata": {},
   "outputs": [],
   "source": [
    "classifiers = [\n",
    "    LogisticRegression(), \n",
    "    KNeighborsClassifier(3),\n",
    "    SVC(kernel=\"linear\", C=0.025),\n",
    "    SVC(gamma=2, C=1),\n",
    "    DecisionTreeClassifier(max_depth=5),\n",
    "    RandomForestClassifier(max_depth=5, n_estimators=10, max_features=1),    \n",
    "    AdaBoostClassifier()\n",
    "]"
   ]
  },
  {
   "cell_type": "markdown",
   "id": "74e298ef",
   "metadata": {},
   "source": [
    "## Model evaluation"
   ]
  },
  {
   "cell_type": "markdown",
   "id": "1bcbfa5b",
   "metadata": {},
   "source": [
    "Training and checking the perfomace of the models."
   ]
  },
  {
   "cell_type": "markdown",
   "id": "9cb362db",
   "metadata": {},
   "source": [
    "results = []\n",
    "\n",
    "models = {}\n",
    "confusion = {}\n",
    "class_report = {}\n",
    "\n",
    "\n",
    "for name, clf in zip(names, classifiers):    \n",
    "    print ('Fitting {:s} model...'.format(name))\n",
    "    run_time = %timeit -q -o clf.fit(X_train, y_train)\n",
    "    \n",
    "    print ('... predicting')\n",
    "    y_pred = clf.predict(X_train)   \n",
    "    y_pred_test = clf.predict(X_test)\n",
    "    \n",
    "    print ('... scoring')\n",
    "    accuracy  = metrics.accuracy_score(y_train, y_pred)\n",
    "    \n",
    "    f1        = metrics.f1_score(y_train, y_pred)    \n",
    "    f1_test   = metrics.f1_score(y_test, y_pred_test)    \n",
    "    \n",
    "    # Save the results to dictionaries\n",
    "    models[name] = clf    \n",
    "    confusion[name] = metrics.confusion_matrix(y_train, y_pred)\n",
    "    class_report[name] = metrics.classification_report(y_train, y_pred)\n",
    "    \n",
    "    results.append([name, accuracy, precision, recall, f1, f1_test, run_time.best])\n",
    "\n",
    "    \n",
    "results = pd.DataFrame(results, columns=['Classifier', 'Accuracy', 'F1 Train', 'F1 Test', 'Train Time'])\n",
    "results.set_index('Classifier', inplace= True)\n",
    "\n",
    "print ('... All done!')"
   ]
  },
  {
   "cell_type": "markdown",
   "id": "1e12bb32",
   "metadata": {},
   "source": [
    "## Testing data"
   ]
  },
  {
   "cell_type": "markdown",
   "id": "14bc41fc",
   "metadata": {},
   "source": [
    "Clean the same way as the training data."
   ]
  },
  {
   "cell_type": "code",
   "execution_count": 256,
   "id": "8847cbdb",
   "metadata": {},
   "outputs": [
    {
     "data": {
      "text/html": [
       "<div>\n",
       "<style scoped>\n",
       "    .dataframe tbody tr th:only-of-type {\n",
       "        vertical-align: middle;\n",
       "    }\n",
       "\n",
       "    .dataframe tbody tr th {\n",
       "        vertical-align: top;\n",
       "    }\n",
       "\n",
       "    .dataframe thead th {\n",
       "        text-align: right;\n",
       "    }\n",
       "</style>\n",
       "<table border=\"1\" class=\"dataframe\">\n",
       "  <thead>\n",
       "    <tr style=\"text-align: right;\">\n",
       "      <th></th>\n",
       "      <th>index</th>\n",
       "      <th>text</th>\n",
       "    </tr>\n",
       "  </thead>\n",
       "  <tbody>\n",
       "    <tr>\n",
       "      <th>0</th>\n",
       "      <td>1</td>\n",
       "      <td>[Mmasepala, fa, maemo, a, a, kgethegileng, a, ...</td>\n",
       "    </tr>\n",
       "    <tr>\n",
       "      <th>1</th>\n",
       "      <td>2</td>\n",
       "      <td>[Uzakwaziswa, ngokufaneleko, nakungafuneka, em...</td>\n",
       "    </tr>\n",
       "    <tr>\n",
       "      <th>2</th>\n",
       "      <td>3</td>\n",
       "      <td>[Tshivhumbeo, tshi, fana, na, ngano, dza, vhathu]</td>\n",
       "    </tr>\n",
       "    <tr>\n",
       "      <th>3</th>\n",
       "      <td>4</td>\n",
       "      <td>[Kube, inja, nelikati, betingevakala, kutsi, t...</td>\n",
       "    </tr>\n",
       "    <tr>\n",
       "      <th>4</th>\n",
       "      <td>5</td>\n",
       "      <td>[Winste, op, buitelandse, valuta]</td>\n",
       "    </tr>\n",
       "  </tbody>\n",
       "</table>\n",
       "</div>"
      ],
      "text/plain": [
       "   index                                               text\n",
       "0      1  [Mmasepala, fa, maemo, a, a, kgethegileng, a, ...\n",
       "1      2  [Uzakwaziswa, ngokufaneleko, nakungafuneka, em...\n",
       "2      3  [Tshivhumbeo, tshi, fana, na, ngano, dza, vhathu]\n",
       "3      4  [Kube, inja, nelikati, betingevakala, kutsi, t...\n",
       "4      5                  [Winste, op, buitelandse, valuta]"
      ]
     },
     "execution_count": 256,
     "metadata": {},
     "output_type": "execute_result"
    }
   ],
   "source": [
    "test1 =  test.copy()\n",
    "test1['text'] = test1['text'].apply(nlp_function)\n",
    "test1.head()"
   ]
  },
  {
   "cell_type": "code",
   "execution_count": 257,
   "id": "c2032c78",
   "metadata": {},
   "outputs": [
    {
     "data": {
      "text/html": [
       "<div>\n",
       "<style scoped>\n",
       "    .dataframe tbody tr th:only-of-type {\n",
       "        vertical-align: middle;\n",
       "    }\n",
       "\n",
       "    .dataframe tbody tr th {\n",
       "        vertical-align: top;\n",
       "    }\n",
       "\n",
       "    .dataframe thead th {\n",
       "        text-align: right;\n",
       "    }\n",
       "</style>\n",
       "<table border=\"1\" class=\"dataframe\">\n",
       "  <thead>\n",
       "    <tr style=\"text-align: right;\">\n",
       "      <th></th>\n",
       "      <th>index</th>\n",
       "      <th>text</th>\n",
       "      <th>text1</th>\n",
       "    </tr>\n",
       "  </thead>\n",
       "  <tbody>\n",
       "    <tr>\n",
       "      <th>0</th>\n",
       "      <td>1</td>\n",
       "      <td>[Mmasepala, fa, maemo, a, a, kgethegileng, a, ...</td>\n",
       "      <td>Mmasepala fa maemo a a kgethegileng a letlelel...</td>\n",
       "    </tr>\n",
       "    <tr>\n",
       "      <th>1</th>\n",
       "      <td>2</td>\n",
       "      <td>[Uzakwaziswa, ngokufaneleko, nakungafuneka, em...</td>\n",
       "      <td>Uzakwaziswa ngokufaneleko nakungafuneka eminye...</td>\n",
       "    </tr>\n",
       "    <tr>\n",
       "      <th>2</th>\n",
       "      <td>3</td>\n",
       "      <td>[Tshivhumbeo, tshi, fana, na, ngano, dza, vhathu]</td>\n",
       "      <td>Tshivhumbeo tshi fana na ngano dza vhathu</td>\n",
       "    </tr>\n",
       "    <tr>\n",
       "      <th>3</th>\n",
       "      <td>4</td>\n",
       "      <td>[Kube, inja, nelikati, betingevakala, kutsi, t...</td>\n",
       "      <td>Kube inja nelikati betingevakala kutsi titsini...</td>\n",
       "    </tr>\n",
       "    <tr>\n",
       "      <th>4</th>\n",
       "      <td>5</td>\n",
       "      <td>[Winste, op, buitelandse, valuta]</td>\n",
       "      <td>Winste op buitelandse valuta</td>\n",
       "    </tr>\n",
       "  </tbody>\n",
       "</table>\n",
       "</div>"
      ],
      "text/plain": [
       "   index                                               text  \\\n",
       "0      1  [Mmasepala, fa, maemo, a, a, kgethegileng, a, ...   \n",
       "1      2  [Uzakwaziswa, ngokufaneleko, nakungafuneka, em...   \n",
       "2      3  [Tshivhumbeo, tshi, fana, na, ngano, dza, vhathu]   \n",
       "3      4  [Kube, inja, nelikati, betingevakala, kutsi, t...   \n",
       "4      5                  [Winste, op, buitelandse, valuta]   \n",
       "\n",
       "                                               text1  \n",
       "0  Mmasepala fa maemo a a kgethegileng a letlelel...  \n",
       "1  Uzakwaziswa ngokufaneleko nakungafuneka eminye...  \n",
       "2          Tshivhumbeo tshi fana na ngano dza vhathu  \n",
       "3  Kube inja nelikati betingevakala kutsi titsini...  \n",
       "4                       Winste op buitelandse valuta  "
      ]
     },
     "execution_count": 257,
     "metadata": {},
     "output_type": "execute_result"
    }
   ],
   "source": [
    "def separate(text):\n",
    "    text = ' '.join(t for t in text if t)\n",
    "    return text\n",
    "    \n",
    "test1['text1'] = test1['text'].apply(separate)\n",
    "test1.head()"
   ]
  },
  {
   "cell_type": "markdown",
   "id": "c2d3eab7",
   "metadata": {},
   "source": [
    "Make predictions"
   ]
  },
  {
   "cell_type": "code",
   "execution_count": 258,
   "id": "46497b56",
   "metadata": {},
   "outputs": [],
   "source": [
    "text2 = test1['text1']\n",
    "X_vect = vectorizer.transform(text2)"
   ]
  },
  {
   "cell_type": "code",
   "execution_count": 261,
   "id": "5641a9da",
   "metadata": {},
   "outputs": [
    {
     "ename": "ValueError",
     "evalue": "X has 144197 features, but MultinomialNB is expecting 42430 features as input.",
     "output_type": "error",
     "traceback": [
      "\u001b[1;31m---------------------------------------------------------------------------\u001b[0m",
      "\u001b[1;31mValueError\u001b[0m                                Traceback (most recent call last)",
      "\u001b[1;32m<ipython-input-261-34802b536d20>\u001b[0m in \u001b[0;36m<module>\u001b[1;34m\u001b[0m\n\u001b[1;32m----> 1\u001b[1;33m \u001b[0my_test_pred\u001b[0m \u001b[1;33m=\u001b[0m \u001b[0mNB_1\u001b[0m\u001b[1;33m.\u001b[0m\u001b[0mpredict\u001b[0m\u001b[1;33m(\u001b[0m\u001b[0mtest_X\u001b[0m\u001b[1;33m)\u001b[0m\u001b[1;33m\u001b[0m\u001b[1;33m\u001b[0m\u001b[0m\n\u001b[0m",
      "\u001b[1;32m~\\anaconda3\\lib\\site-packages\\sklearn\\naive_bayes.py\u001b[0m in \u001b[0;36mpredict\u001b[1;34m(self, X)\u001b[0m\n\u001b[0;32m     78\u001b[0m         \"\"\"\n\u001b[0;32m     79\u001b[0m         \u001b[0mcheck_is_fitted\u001b[0m\u001b[1;33m(\u001b[0m\u001b[0mself\u001b[0m\u001b[1;33m)\u001b[0m\u001b[1;33m\u001b[0m\u001b[1;33m\u001b[0m\u001b[0m\n\u001b[1;32m---> 80\u001b[1;33m         \u001b[0mX\u001b[0m \u001b[1;33m=\u001b[0m \u001b[0mself\u001b[0m\u001b[1;33m.\u001b[0m\u001b[0m_check_X\u001b[0m\u001b[1;33m(\u001b[0m\u001b[0mX\u001b[0m\u001b[1;33m)\u001b[0m\u001b[1;33m\u001b[0m\u001b[1;33m\u001b[0m\u001b[0m\n\u001b[0m\u001b[0;32m     81\u001b[0m         \u001b[0mjll\u001b[0m \u001b[1;33m=\u001b[0m \u001b[0mself\u001b[0m\u001b[1;33m.\u001b[0m\u001b[0m_joint_log_likelihood\u001b[0m\u001b[1;33m(\u001b[0m\u001b[0mX\u001b[0m\u001b[1;33m)\u001b[0m\u001b[1;33m\u001b[0m\u001b[1;33m\u001b[0m\u001b[0m\n\u001b[0;32m     82\u001b[0m         \u001b[1;32mreturn\u001b[0m \u001b[0mself\u001b[0m\u001b[1;33m.\u001b[0m\u001b[0mclasses_\u001b[0m\u001b[1;33m[\u001b[0m\u001b[0mnp\u001b[0m\u001b[1;33m.\u001b[0m\u001b[0margmax\u001b[0m\u001b[1;33m(\u001b[0m\u001b[0mjll\u001b[0m\u001b[1;33m,\u001b[0m \u001b[0maxis\u001b[0m\u001b[1;33m=\u001b[0m\u001b[1;36m1\u001b[0m\u001b[1;33m)\u001b[0m\u001b[1;33m]\u001b[0m\u001b[1;33m\u001b[0m\u001b[1;33m\u001b[0m\u001b[0m\n",
      "\u001b[1;32m~\\anaconda3\\lib\\site-packages\\sklearn\\naive_bayes.py\u001b[0m in \u001b[0;36m_check_X\u001b[1;34m(self, X)\u001b[0m\n\u001b[0;32m    547\u001b[0m     \u001b[1;32mdef\u001b[0m \u001b[0m_check_X\u001b[0m\u001b[1;33m(\u001b[0m\u001b[0mself\u001b[0m\u001b[1;33m,\u001b[0m \u001b[0mX\u001b[0m\u001b[1;33m)\u001b[0m\u001b[1;33m:\u001b[0m\u001b[1;33m\u001b[0m\u001b[1;33m\u001b[0m\u001b[0m\n\u001b[0;32m    548\u001b[0m         \u001b[1;34m\"\"\"Validate X, used only in predict* methods.\"\"\"\u001b[0m\u001b[1;33m\u001b[0m\u001b[1;33m\u001b[0m\u001b[0m\n\u001b[1;32m--> 549\u001b[1;33m         \u001b[1;32mreturn\u001b[0m \u001b[0mself\u001b[0m\u001b[1;33m.\u001b[0m\u001b[0m_validate_data\u001b[0m\u001b[1;33m(\u001b[0m\u001b[0mX\u001b[0m\u001b[1;33m,\u001b[0m \u001b[0maccept_sparse\u001b[0m\u001b[1;33m=\u001b[0m\u001b[1;34m\"csr\"\u001b[0m\u001b[1;33m,\u001b[0m \u001b[0mreset\u001b[0m\u001b[1;33m=\u001b[0m\u001b[1;32mFalse\u001b[0m\u001b[1;33m)\u001b[0m\u001b[1;33m\u001b[0m\u001b[1;33m\u001b[0m\u001b[0m\n\u001b[0m\u001b[0;32m    550\u001b[0m \u001b[1;33m\u001b[0m\u001b[0m\n\u001b[0;32m    551\u001b[0m     \u001b[1;32mdef\u001b[0m \u001b[0m_check_X_y\u001b[0m\u001b[1;33m(\u001b[0m\u001b[0mself\u001b[0m\u001b[1;33m,\u001b[0m \u001b[0mX\u001b[0m\u001b[1;33m,\u001b[0m \u001b[0my\u001b[0m\u001b[1;33m,\u001b[0m \u001b[0mreset\u001b[0m\u001b[1;33m=\u001b[0m\u001b[1;32mTrue\u001b[0m\u001b[1;33m)\u001b[0m\u001b[1;33m:\u001b[0m\u001b[1;33m\u001b[0m\u001b[1;33m\u001b[0m\u001b[0m\n",
      "\u001b[1;32m~\\anaconda3\\lib\\site-packages\\sklearn\\base.py\u001b[0m in \u001b[0;36m_validate_data\u001b[1;34m(self, X, y, reset, validate_separately, **check_params)\u001b[0m\n\u001b[0;32m    598\u001b[0m \u001b[1;33m\u001b[0m\u001b[0m\n\u001b[0;32m    599\u001b[0m         \u001b[1;32mif\u001b[0m \u001b[1;32mnot\u001b[0m \u001b[0mno_val_X\u001b[0m \u001b[1;32mand\u001b[0m \u001b[0mcheck_params\u001b[0m\u001b[1;33m.\u001b[0m\u001b[0mget\u001b[0m\u001b[1;33m(\u001b[0m\u001b[1;34m\"ensure_2d\"\u001b[0m\u001b[1;33m,\u001b[0m \u001b[1;32mTrue\u001b[0m\u001b[1;33m)\u001b[0m\u001b[1;33m:\u001b[0m\u001b[1;33m\u001b[0m\u001b[1;33m\u001b[0m\u001b[0m\n\u001b[1;32m--> 600\u001b[1;33m             \u001b[0mself\u001b[0m\u001b[1;33m.\u001b[0m\u001b[0m_check_n_features\u001b[0m\u001b[1;33m(\u001b[0m\u001b[0mX\u001b[0m\u001b[1;33m,\u001b[0m \u001b[0mreset\u001b[0m\u001b[1;33m=\u001b[0m\u001b[0mreset\u001b[0m\u001b[1;33m)\u001b[0m\u001b[1;33m\u001b[0m\u001b[1;33m\u001b[0m\u001b[0m\n\u001b[0m\u001b[0;32m    601\u001b[0m \u001b[1;33m\u001b[0m\u001b[0m\n\u001b[0;32m    602\u001b[0m         \u001b[1;32mreturn\u001b[0m \u001b[0mout\u001b[0m\u001b[1;33m\u001b[0m\u001b[1;33m\u001b[0m\u001b[0m\n",
      "\u001b[1;32m~\\anaconda3\\lib\\site-packages\\sklearn\\base.py\u001b[0m in \u001b[0;36m_check_n_features\u001b[1;34m(self, X, reset)\u001b[0m\n\u001b[0;32m    398\u001b[0m \u001b[1;33m\u001b[0m\u001b[0m\n\u001b[0;32m    399\u001b[0m         \u001b[1;32mif\u001b[0m \u001b[0mn_features\u001b[0m \u001b[1;33m!=\u001b[0m \u001b[0mself\u001b[0m\u001b[1;33m.\u001b[0m\u001b[0mn_features_in_\u001b[0m\u001b[1;33m:\u001b[0m\u001b[1;33m\u001b[0m\u001b[1;33m\u001b[0m\u001b[0m\n\u001b[1;32m--> 400\u001b[1;33m             raise ValueError(\n\u001b[0m\u001b[0;32m    401\u001b[0m                 \u001b[1;34mf\"X has {n_features} features, but {self.__class__.__name__} \"\u001b[0m\u001b[1;33m\u001b[0m\u001b[1;33m\u001b[0m\u001b[0m\n\u001b[0;32m    402\u001b[0m                 \u001b[1;34mf\"is expecting {self.n_features_in_} features as input.\"\u001b[0m\u001b[1;33m\u001b[0m\u001b[1;33m\u001b[0m\u001b[0m\n",
      "\u001b[1;31mValueError\u001b[0m: X has 144197 features, but MultinomialNB is expecting 42430 features as input."
     ]
    }
   ],
   "source": [
    "y_test_pred = NB_1.predict(test_X)"
   ]
  },
  {
   "cell_type": "code",
   "execution_count": 263,
   "id": "59df69a5",
   "metadata": {},
   "outputs": [
    {
     "ename": "NameError",
     "evalue": "name 'y_test_pred' is not defined",
     "output_type": "error",
     "traceback": [
      "\u001b[1;31m---------------------------------------------------------------------------\u001b[0m",
      "\u001b[1;31mNameError\u001b[0m                                 Traceback (most recent call last)",
      "\u001b[1;32m<ipython-input-263-0ea005f90642>\u001b[0m in \u001b[0;36m<module>\u001b[1;34m\u001b[0m\n\u001b[1;32m----> 1\u001b[1;33m \u001b[0my_test_pred3\u001b[0m \u001b[1;33m=\u001b[0m \u001b[0mle\u001b[0m\u001b[1;33m.\u001b[0m\u001b[0minverse_transform\u001b[0m\u001b[1;33m(\u001b[0m\u001b[0my_test_pred\u001b[0m\u001b[1;33m)\u001b[0m\u001b[1;33m\u001b[0m\u001b[1;33m\u001b[0m\u001b[0m\n\u001b[0m",
      "\u001b[1;31mNameError\u001b[0m: name 'y_test_pred' is not defined"
     ]
    }
   ],
   "source": [
    "y_test_pred3 = le.inverse_transform(y_test_pred)"
   ]
  },
  {
   "cell_type": "markdown",
   "id": "43f287e3",
   "metadata": {},
   "source": [
    "Getting the predicted encoded labels back to text."
   ]
  },
  {
   "cell_type": "code",
   "execution_count": 262,
   "id": "f1c8d5b4",
   "metadata": {},
   "outputs": [
    {
     "ename": "SyntaxError",
     "evalue": "invalid syntax (<ipython-input-262-d39c57f53c85>, line 2)",
     "output_type": "error",
     "traceback": [
      "\u001b[1;36m  File \u001b[1;32m\"<ipython-input-262-d39c57f53c85>\"\u001b[1;36m, line \u001b[1;32m2\u001b[0m\n\u001b[1;33m    1 = le.inverse_transform(y_test_pred) y_test_pred1\u001b[0m\n\u001b[1;37m                                          ^\u001b[0m\n\u001b[1;31mSyntaxError\u001b[0m\u001b[1;31m:\u001b[0m invalid syntax\n"
     ]
    }
   ],
   "source": [
    "y_test_pred\n",
    "1 = le.inverse_transform(y_test_pred) y_test_pred1\n",
    "\n",
    "y_test_pred\n",
    "\n",
    "y_test_pred2 = svc.predict(test_X)"
   ]
  },
  {
   "cell_type": "code",
   "execution_count": null,
   "id": "27a79788",
   "metadata": {},
   "outputs": [],
   "source": [
    "y_test_pred3 = le.inverse_transform(y_test_pred)"
   ]
  },
  {
   "cell_type": "markdown",
   "id": "9f649402",
   "metadata": {},
   "source": [
    "## Saving to CSV file"
   ]
  },
  {
   "cell_type": "code",
   "execution_count": null,
   "id": "7afa26d9",
   "metadata": {},
   "outputs": [],
   "source": [
    "submission = pd.DataFrame({'index':test1['index'],\n",
    "                          'lang_id':y_test_pred3})"
   ]
  },
  {
   "cell_type": "code",
   "execution_count": null,
   "id": "78d09176",
   "metadata": {},
   "outputs": [],
   "source": [
    "submission.to_csv('Seromo_Podile_Classification_Hack7.csv',index=False)"
   ]
  },
  {
   "cell_type": "markdown",
   "id": "604908ef",
   "metadata": {},
   "source": [
    "## Saving the model\n"
   ]
  },
  {
   "cell_type": "code",
   "execution_count": null,
   "id": "02d9f393",
   "metadata": {},
   "outputs": [],
   "source": [
    "import pickle\n",
    "model_save_path = \"NB.pkl\"\n",
    "with open(model_save_path,'wb') as file:\n",
    "    pickle.dump(NB,file)"
   ]
  },
  {
   "cell_type": "code",
   "execution_count": null,
   "id": "3e406538",
   "metadata": {},
   "outputs": [],
   "source": []
  },
  {
   "cell_type": "code",
   "execution_count": null,
   "id": "f2d801dc",
   "metadata": {},
   "outputs": [],
   "source": []
  }
 ],
 "metadata": {
  "kernelspec": {
   "display_name": "Python 3",
   "language": "python",
   "name": "python3"
  },
  "language_info": {
   "codemirror_mode": {
    "name": "ipython",
    "version": 3
   },
   "file_extension": ".py",
   "mimetype": "text/x-python",
   "name": "python",
   "nbconvert_exporter": "python",
   "pygments_lexer": "ipython3",
   "version": "3.8.8"
  }
 },
 "nbformat": 4,
 "nbformat_minor": 5
}
